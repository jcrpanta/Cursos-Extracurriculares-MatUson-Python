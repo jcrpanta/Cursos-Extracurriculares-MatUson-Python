{
  "cells": [
    {
      "cell_type": "markdown",
      "metadata": {
        "id": "view-in-github",
        "colab_type": "text"
      },
      "source": [
        "<a href=\"https://colab.research.google.com/github/jcrpanta/Cursos-Extracurriculares-Python/blob/main/S1_0_Colab_Github.ipynb\" target=\"_parent\"><img src=\"https://colab.research.google.com/assets/colab-badge.svg\" alt=\"Open In Colab\"/></a>"
      ]
    },
    {
      "cell_type": "markdown",
      "metadata": {
        "id": "DJDG6QaB8twf"
      },
      "source": [
        "#Google Colab\n",
        "\n",
        "<div>\n",
        "<img src=\"https://github.com/gmauricio-toledo/Curso-Python-2023/blob/main/Notebooks/img/colab-logo.png?raw=1\" width=\"600\"/>\n",
        "</div>\n",
        "\n",
        "Colab, también conocido como *Colaboratory*, te permite programar y ejecutar Python en tu navegador con las siguientes ventajas:\n",
        "- No requiere configuración para usar Python o instalar las últimas versiones de los módulos.\n",
        "- Acceso a GPU sin costo adicional.\n",
        "- Permite compartir contenido fácilmente.\n",
        "\n",
        "\n",
        "<div class=\"markdown-google-sans\">\n",
        "<h2>Notebooks</h2>\n",
        "</div>\n",
        "\n",
        "El documento que estás leyendo no es una página web estática, sino un entorno interactivo denominado <strong>cuaderno de Colab</strong> que te permite escribir y ejecutar código."
      ]
    },
    {
      "cell_type": "markdown",
      "source": [
        "Texto con **formato**, `código` ✅"
      ],
      "metadata": {
        "id": "CLsXraqMBrmv"
      }
    },
    {
      "cell_type": "code",
      "execution_count": null,
      "metadata": {
        "id": "bOev41aj8twj"
      },
      "outputs": [],
      "source": []
    },
    {
      "cell_type": "markdown",
      "source": [
        "En la siguiente notebook se mostrarán <strong>celdas de código</strong> con secuencias de comandos de Python que calculan valores, los almacenan en variables e imprimen resultados.\n",
        "\n",
        "Los cuadernos de Colab te permiten combinar <strong>código ejecutable</strong> y <strong>texto enriquecido</strong> en un mismo documento, además de <strong>imágenes</strong>, <strong>HTML</strong>, <strong>$\\LaTeX$</strong> entre otros.\n",
        "\n",
        "$$f(x)=\\frac{1}{x^2-3}$$\n",
        "\n",
        "Las notebooks que creas en Colab se almacenan automáticamente en tu cuenta de Google Drive en la carpeta \"Colab Notebooks\". Puedes compartir tus cuadernos de Colab fácilmente con otras personas, lo que les permite comentarlos, ejecutarlos o editarlos.\n",
        "\n",
        "Se puede consultar más información en <a href=\"/notebooks/basic_features_overview.ipynb\">Información general sobre Colab</a>. Para crear un cuaderno de Colab, puedes usar el menú Archivo que aparece arriba o acceder directamente al enlace http://colab.research.google.com.\n",
        "\n",
        "Los cuadernos de Colab son cuadernos de Jupyter alojados en Colab. Para obtener más información sobre el proyecto Jupyter, visita <a href=\"https://www.jupyter.org\">jupyter.org</a>. Por esta razón, también puedes descargar las notebooks y abrirlas localmente con [Visal Code Editor](https://code.visualstudio.com/), [Anaconda](https://www.anaconda.com/download), etc."
      ],
      "metadata": {
        "id": "oUKi-mv_BqFj"
      }
    },
    {
      "cell_type": "markdown",
      "metadata": {
        "id": "Ya7F3XpI8twj"
      },
      "source": [
        "# Github"
      ]
    },
    {
      "cell_type": "markdown",
      "metadata": {
        "id": "woywAEy88twk"
      },
      "source": [
        "<div>\n",
        "<img src=\"https://github.com/gmauricio-toledo/Curso-Python-2023/blob/main/Notebooks/img/github-logo.png?raw=1\" width=\"600\"/>\n",
        "</div>\n",
        "\n",
        "Usaremos Github para compartir las notebooks y documentos usados durante el curso.\n",
        "\n",
        "GitHub es una plataforma de desarrollo colaborativo de software que permite a las personas y equipos trabajar juntos en proyectos de programación. Fue fundada en 2008 y se ha convertido en una de las herramientas más populares para la gestión de código fuente y la colaboración en el desarrollo de software. Algunas de las principales características y funciones de GitHub son:\n",
        "\n",
        "* **Repositorios**: GitHub proporciona un espacio en línea para almacenar y gestionar proyectos de software. Estos proyectos se almacenan en lo que se llama \"repositorios\", que contienen todos los archivos, carpetas y código fuente relacionados con un proyecto específico.\n",
        "\n",
        "* **Control de versiones**: GitHub utiliza un sistema de control de versiones llamado Git, que permite realizar un seguimiento de todos los cambios realizados en el código fuente a lo largo del tiempo. Esto facilita la colaboración y la capacidad de revertir a versiones anteriores del código si es necesario.\n",
        "\n",
        "* **Colaboración**: GitHub permite a múltiples desarrolladores trabajar juntos en un proyecto. Los colaboradores pueden realizar cambios en el código, proponer mejoras y revisar el trabajo de los demás.\n",
        "\n",
        "* **Ramificaciones**: Los desarrolladores pueden crear ramificaciones del repositorio principal para trabajar en nuevas características o correcciones de errores sin afectar la versión principal del código. Una vez que las ramificaciones se completan, pueden fusionarse nuevamente en la rama principal.\n",
        "\n",
        "* **Colaboración remota**: GitHub permite a los equipos de desarrollo trabajar de forma remota en proyectos, lo que es especialmente útil para equipos distribuidos en diferentes ubicaciones geográficas.\n",
        "\n",
        "GitHub es ampliamente utilizado en la comunidad de desarrollo de software de código abierto y por empresas y organizaciones que desean gestionar sus proyectos de desarrollo de software de manera eficiente y colaborativa.\n",
        "\n",
        "Además, hay una integración fuerte entre Colab y Github. Por ejemplo, podemos abrir notebooks alojadas en Github desde Colab, podemos guardar notebooks desde Colab a Github, podemos bajar archivos alojados en Github desde colab, etc."
      ]
    },
    {
      "cell_type": "code",
      "source": [],
      "metadata": {
        "id": "MQm3CHUHEk2J"
      },
      "execution_count": null,
      "outputs": []
    }
  ],
  "metadata": {
    "language_info": {
      "name": "python"
    },
    "orig_nbformat": 4,
    "colab": {
      "provenance": [],
      "include_colab_link": true
    }
  },
  "nbformat": 4,
  "nbformat_minor": 0
}