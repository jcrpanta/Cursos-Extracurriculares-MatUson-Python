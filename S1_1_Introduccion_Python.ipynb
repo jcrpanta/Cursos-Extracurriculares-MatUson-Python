{
  "cells": [
    {
      "cell_type": "markdown",
      "metadata": {
        "id": "view-in-github",
        "colab_type": "text"
      },
      "source": [
        "<a href=\"https://colab.research.google.com/github/jcrpanta/Cursos-Extracurriculares-Python/blob/main/S1_1_Introduccion_Python.ipynb\" target=\"_parent\"><img src=\"https://colab.research.google.com/assets/colab-badge.svg\" alt=\"Open In Colab\"/></a>"
      ]
    },
    {
      "cell_type": "markdown",
      "metadata": {
        "id": "Edsf7jxfsJp0"
      },
      "source": [
        "<div>\n",
        "<img src=\"https://github.com/gmauricio-toledo/Curso-Python-2023/blob/main/Notebooks/img/python-logo.png?raw=1\" width=\"500\"/>\n",
        "</div>"
      ]
    },
    {
      "cell_type": "markdown",
      "metadata": {
        "id": "M2C8zVWEzcCF"
      },
      "source": [
        "Python es un lenguaje de programación de propósito general, moderno, dinámico, robusto, de alto nivel e interpretado. Se utiliza en desarrollo web, ciencia de datos, creación de prototipos de software, etc. Python tiene una sintaxis sencilla y fácil de usar. Esto hace que Python sea un lenguaje excelente para aprender a programar y para realizar programas rapidamente.\n",
        "\n",
        "[Documentación](https://www.python.org/)\n",
        "\n",
        "Para usar Python usaremos Google Colaboratory, el cual es un servicio gratuito de Google en el cual podemos contectarnos a un entorno de ejecución rémoto. Para esto necesitamos una cuenta de Google. Colab funciona por medio de notebooks, los cuales son archivos que combinan código de Python y texto/imágenes. Esto a diferencia del enfoque usual de trabajar con archivos de script *py*."
      ]
    },
    {
      "cell_type": "markdown",
      "metadata": {
        "id": "if7OFMJa7pyx"
      },
      "source": [
        "\n",
        "\n",
        "---\n",
        "\n",
        "\n",
        "**Scripting vs Programming**\n",
        "\n",
        "* Un lenguaje de programación es un conjunto de instrucciones para que el ordenador realice una tarea. Por lo general, estos lenguajes se compilan antes del tiempo de ejecución, de modo que un compilador convierte este código en código comprensible por la máquina. Ejemplos: C/C++, Java, etc.\n",
        "\n",
        "* Por otro lado, un lenguaje scripting, en tiempo de ejecución, es interpretado directamente por el entorno para obtener el resultado en lugar de ser traducidos a código comprensible por la máquina antes de ser ejecutados. Ejemplos: Python, MATLAB, Javascript, Perl, Ruby, PHP.\n",
        "\n",
        "---"
      ]
    },
    {
      "cell_type": "markdown",
      "metadata": {
        "id": "WZehJJ170fyP"
      },
      "source": [
        "# Instalar Python (**OPCIONAL**)"
      ]
    },
    {
      "cell_type": "markdown",
      "metadata": {
        "id": "cJHb-NDv0oEQ"
      },
      "source": [
        "Python funciona en Windows, Linux, Mac y otros entornos. Hay muchas distribuciones de Python disponibles. Sin embargo, la forma recomendada de instalar python en Microsoft Windows o Linux es utilizar la distribución Anaconda disponible en [la documentación](https://www.anaconda.com/products/individual#windows). Si instalas Python desde otro lugar, asegúrate de obtener al menos la versión Python 3.8, no la 2.7.\n",
        "\n",
        "La distribución Anaconda viene con gestor de paquetes y algunos módulos adicionales instalados, como SciPy. Para desarrollar código Python sin notebooks se puede usar usar spyder (también incluido con Anaconda) o cualquier editor de texto y ejecutando desde la terminal.\n",
        "\n",
        "Otra opción es [Visual Code Editor](https://code.visualstudio.com/), el cual además incluye la integración con github y muchas extensiones útiles."
      ]
    },
    {
      "cell_type": "markdown",
      "metadata": {
        "id": "YymPghREsQ_I"
      },
      "source": [
        "# Introducción a Python"
      ]
    },
    {
      "cell_type": "markdown",
      "metadata": {
        "id": "-JLpZlWGLOIw"
      },
      "source": [
        "¡La mejor forma de aprender Python es haciéndolo!\n",
        "\n",
        "**Da click en cualquier celda de código de este curso y presiona `ctrl + Enter` para ejecutarlo (tambíen puedes presionar el botón *play*). Debemos tener presente que las instrucciones se organizan en bloques y se ejecutan de acuerdo al orden en el que fueron escritas.**"
      ]
    },
    {
      "cell_type": "markdown",
      "metadata": {
        "id": "DJseFUKccU5f"
      },
      "source": [
        "* **Tipos de Datos en Python:**"
      ]
    },
    {
      "cell_type": "markdown",
      "metadata": {
        "id": "J-vIgExvvECp"
      },
      "source": [
        "<div>\n",
        "<img src=\"https://github.com/gmauricio-toledo/Curso-Python-2023/blob/main/Notebooks/img/Python-Data-Type.png?raw=1\" width=\"800\"/>\n",
        "</div>"
      ]
    },
    {
      "cell_type": "markdown",
      "metadata": {
        "id": "fy2jALMfrWD1"
      },
      "source": [
        "**Funciones:** Una función es un bloque de código que realiza una tarea específica y que sólo se ejecuta cuando se le llama. Para esto se deben de introducir los parámetros/argumentos (mínimos) necesarios, es decir, los datos que la función necesita para poder ejecutarse.\n",
        "\n",
        "Existen dos tipos de funciones en la programación en Python:\n",
        "\n",
        "* *Funciones de biblioteca estándar.* Son funciones incorporadas en Python que están disponibles para el usuario ([https://docs.python.org/3/library/functions.html](https://docs.python.org/3/library/functions.html)).\n",
        "\n",
        "* *Funciones definidas por el usuario*. En Python, podemos crear nuestras propias funciones según las necesidades. Esto lo veremos en una notebook posterior."
      ]
    },
    {
      "cell_type": "markdown",
      "metadata": {
        "id": "CjSgpwcYzMNq"
      },
      "source": [
        "![image.png](data:image/png;base64,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)"
      ]
    },
    {
      "cell_type": "markdown",
      "metadata": {
        "id": "ljVLzirwLPsV"
      },
      "source": [
        "### Números"
      ]
    },
    {
      "cell_type": "markdown",
      "metadata": {
        "id": "oRcUxR2N_0Zs"
      },
      "source": [
        "El intérprete de Python puede utilizarse como una calculadora simple: al escribir una expresión numérica éste retornará un valor (numérico).\n",
        "\n",
        "La sintaxis para las operaciones numéricas es sencilla: los operadores `+`,  `-`, `*`  y  `/` funcionan como en la mayoría de otros lenguajes de programación. También podemos usar paréntesis `()` para agrupar expresiones. En resumen, Python admite las siguientes operaciones básicas ([https://docs.python.org/3/library/stdtypes.html#numeric-types-int-float-complex](https://docs.python.org/3/library/stdtypes.html#numeric-types-int-float-complex)):\n",
        "\n",
        "| Expression | Description    || Expression | Description    |\n",
        "| :--------: | ------------   || :--------: | -------------- |\n",
        "| +          | Suma           || -          | Resta |\n",
        "| *          | Multiplicación || **         | Potencia |\n",
        "| /          | División       || //         | División Entera|\n",
        "| %          | Residuo        ||                             |"
      ]
    },
    {
      "cell_type": "code",
      "execution_count": null,
      "metadata": {
        "id": "T2yXZU7jBklI"
      },
      "outputs": [],
      "source": [
        "2 + 2"
      ]
    },
    {
      "cell_type": "code",
      "execution_count": null,
      "metadata": {
        "id": "Pg2PB1IFBpa6"
      },
      "outputs": [],
      "source": [
        "50 - 5*6"
      ]
    },
    {
      "cell_type": "markdown",
      "metadata": {
        "id": "1AqFfgosB5T-"
      },
      "source": [
        "**Nota.** Los números enteros (ej. 2, -4, 20) son de tipo `int` y los que tienen parte racional (ej. 1.0, -5.6) son de tipo `float`. Python cuenta con la funcion ```type```, la cual permite verificar tipos de datos:\n",
        "\n"
      ]
    },
    {
      "cell_type": "code",
      "execution_count": null,
      "metadata": {
        "id": "uKil71pPezKK"
      },
      "outputs": [],
      "source": [
        "type(-1)"
      ]
    },
    {
      "cell_type": "code",
      "execution_count": null,
      "metadata": {
        "id": "NUQmiYuSe1cA"
      },
      "outputs": [],
      "source": [
        "type(-1.0)"
      ]
    },
    {
      "cell_type": "markdown",
      "metadata": {
        "id": "RnNfwsreAe4S"
      },
      "source": [
        "La división ''`/`' (siempre) retorna un valor flotante."
      ]
    },
    {
      "cell_type": "code",
      "execution_count": null,
      "metadata": {
        "id": "iRh7VYPRC-k-"
      },
      "outputs": [],
      "source": [
        "17 / 3      # la divison clásica retorna un valor flotante"
      ]
    },
    {
      "cell_type": "markdown",
      "metadata": {
        "id": "Lnlof-ZdfVfn"
      },
      "source": [
        "Para obtener el valor entero en una división, y olvidarnos de la parte decimal, podemos usar el operador `//`."
      ]
    },
    {
      "cell_type": "code",
      "execution_count": null,
      "metadata": {
        "id": "E9aqg0NPDEef"
      },
      "outputs": [],
      "source": [
        "17 // 3     # retorna solo la parte entera"
      ]
    },
    {
      "cell_type": "markdown",
      "metadata": {
        "id": "D-8NltfvpHTV"
      },
      "source": [
        "Para obtener el residuo en una división podemos usar el operador `%`."
      ]
    },
    {
      "cell_type": "code",
      "execution_count": null,
      "metadata": {
        "id": "O07a1zRGpRXf"
      },
      "outputs": [],
      "source": [
        "17 % 3"
      ]
    },
    {
      "cell_type": "code",
      "execution_count": null,
      "metadata": {
        "id": "0tfsy3wTpUUi"
      },
      "outputs": [],
      "source": [
        "(17 // 3)*3 + (17 % 3)      # recuper el dividendo"
      ]
    },
    {
      "cell_type": "markdown",
      "metadata": {
        "id": "f-7oJI2dDd52"
      },
      "source": [
        "En Python, se usa el operador `**` para calcular potencias."
      ]
    },
    {
      "cell_type": "code",
      "execution_count": null,
      "metadata": {
        "id": "0O5ydVafDk_Y"
      },
      "outputs": [],
      "source": [
        "5**2    # 5 al cuadrado"
      ]
    },
    {
      "cell_type": "code",
      "execution_count": null,
      "metadata": {
        "id": "z2kLMHn2DpgX"
      },
      "outputs": [],
      "source": [
        "2**7"
      ]
    },
    {
      "cell_type": "code",
      "execution_count": null,
      "metadata": {
        "id": "aYtoOBNkM1BJ"
      },
      "outputs": [],
      "source": [
        "2*3**2      # ¿resultado?"
      ]
    },
    {
      "cell_type": "code",
      "execution_count": null,
      "metadata": {
        "id": "w8k_ceJYN9DP"
      },
      "outputs": [],
      "source": [
        "2**3*2      # ¿resultado?"
      ]
    },
    {
      "cell_type": "markdown",
      "metadata": {
        "id": "oc5vDoV7ENKJ"
      },
      "source": [
        "**Nota.** Al operar con números enteros (`int`) y flotantes (`float`) el resultado será de tipo flotante."
      ]
    },
    {
      "cell_type": "code",
      "execution_count": null,
      "metadata": {
        "id": "QMT3E_aVEhWh"
      },
      "outputs": [],
      "source": [
        "4 * 3.75 - 1"
      ]
    },
    {
      "cell_type": "code",
      "execution_count": null,
      "metadata": {
        "id": "T-q3uE6aqnu6"
      },
      "outputs": [],
      "source": [
        "type(4 * 3.75 - 1)"
      ]
    },
    {
      "cell_type": "markdown",
      "metadata": {
        "id": "ZxGRtEbbuzRF"
      },
      "source": [
        "Una manera de trabajar con números complejos es utilizando la función `complex`, la cual permite definir números complejos, los cuales podemos operar de manera usual. El siguiente código ejemplifica la sintaxis:"
      ]
    },
    {
      "cell_type": "code",
      "execution_count": null,
      "metadata": {
        "id": "LP73gWURuoyD"
      },
      "outputs": [],
      "source": [
        "complex(1,-1.0)"
      ]
    },
    {
      "cell_type": "code",
      "execution_count": null,
      "metadata": {
        "id": "1BDpF2m5wFZR"
      },
      "outputs": [],
      "source": [
        "type(complex(1,-1.0))"
      ]
    },
    {
      "cell_type": "markdown",
      "metadata": {
        "id": "i2Ul6f0fvVsC"
      },
      "source": [
        "Por tanto, la función `complex` requiere como argumentos 2 datos numéricos $(a,b)$, el primero $a$ fungirá como parte real y el segundo $b$ como parte imaginaria.\n",
        "\n",
        "**Nota.** Python utiliza el caracter `j` como unidad imaginaria."
      ]
    },
    {
      "cell_type": "code",
      "execution_count": null,
      "metadata": {
        "id": "NMv7HPCUvU_b"
      },
      "outputs": [],
      "source": [
        "complex(1)"
      ]
    },
    {
      "cell_type": "code",
      "execution_count": null,
      "metadata": {
        "id": "5NE3XNUgx2Oj"
      },
      "outputs": [],
      "source": [
        "complex(0,1)"
      ]
    },
    {
      "cell_type": "code",
      "execution_count": null,
      "metadata": {
        "id": "Jc75iZrxx49Z"
      },
      "outputs": [],
      "source": [
        "complex(0,1)**2"
      ]
    },
    {
      "cell_type": "code",
      "execution_count": null,
      "metadata": {
        "id": "bF7IISOKyXXi"
      },
      "outputs": [],
      "source": [
        "complex(-1) + complex(1,-1)"
      ]
    },
    {
      "cell_type": "code",
      "execution_count": null,
      "metadata": {
        "id": "t7jVZ4Hfx9Bx"
      },
      "outputs": [],
      "source": [
        "complex(0,1) ** complex(0,1)"
      ]
    },
    {
      "cell_type": "markdown",
      "metadata": {
        "id": "OPLfcbEegUmB"
      },
      "source": [
        "Para realizar operaciones que Python no efectua por defecto, como raiz cuadrada, usar funciones trigonométricas, exponenciales, etc., o trabajar con la notación estándar para números complejos, se debe recurrir a \"bibliotecas especializadas\", escritas en código Python, que reciben el nombre de *módulos*."
      ]
    },
    {
      "cell_type": "markdown",
      "metadata": {
        "id": "Xod6gKQQk06O"
      },
      "source": [
        "### Módulos"
      ]
    },
    {
      "cell_type": "markdown",
      "metadata": {
        "id": "hHhum883xsK-"
      },
      "source": [
        "Un módulo es un script que contiene código de Pyhton. Su extención es `.py` ([https://docs.python.org/3/tutorial/modules.html](https://docs.python.org/3/tutorial/modules.html)). En los módulos se almacenan _variables_ y _funciones_ que nos permiten realizar ciertas tareas de manera más automatizada.\n",
        "\n",
        "Python cuenta con una biblioteca de módulos estándar. Algunos módulos se integran en el intérprete y estos proveen acceso a operaciones que no son parte del núcleo de Python pero que si están integrados."
      ]
    },
    {
      "cell_type": "markdown",
      "metadata": {
        "id": "J3PnHNmIzoFL"
      },
      "source": [
        "**La forma en la que podemos agregar un módulo a Python es con la función `import`.**\n",
        "\n",
        "Por ejemplo, el módulo [`math`](https://docs.python.org/3.7/library/math.html#module-math), que en particular nos permite realizar operaciones como raiz cuadrada, usar funciones trigonométricas, exponenciales, etc., se importa de la siguiente manera:"
      ]
    },
    {
      "cell_type": "code",
      "execution_count": null,
      "metadata": {
        "id": "_vF3Zmn61YvO"
      },
      "outputs": [],
      "source": [
        "import math"
      ]
    },
    {
      "cell_type": "markdown",
      "metadata": {
        "id": "Fp4uyJZv14No"
      },
      "source": [
        " Podemos importar solo algunas funciones de los módulos o importar todas las funciones. También podemos importar un módulo y renombrarlo para acceder a las funciones de una forma más sencilla."
      ]
    },
    {
      "cell_type": "code",
      "execution_count": null,
      "metadata": {
        "id": "XY8gQc_62Svn"
      },
      "outputs": [],
      "source": [
        "from math import sqrt, exp      # solo estamos importando las funciones raiz cuadrada y exponencial"
      ]
    },
    {
      "cell_type": "markdown",
      "metadata": {
        "id": "-2v3Y8Ln2lTE"
      },
      "source": [
        "Al importar de esta manera las funciones, si queremos usarlas, solo debemos de llamarlas con el respectivo nombre."
      ]
    },
    {
      "cell_type": "code",
      "execution_count": null,
      "metadata": {
        "id": "l7p8FUMb2hhb"
      },
      "outputs": [],
      "source": [
        "sqrt(25)"
      ]
    },
    {
      "cell_type": "code",
      "execution_count": null,
      "metadata": {
        "id": "nVXKQclTcKeu"
      },
      "outputs": [],
      "source": [
        "exp(25)"
      ]
    },
    {
      "cell_type": "markdown",
      "metadata": {
        "id": "k_I1tyy72xv2"
      },
      "source": [
        "Cuando importamos un módulo con la sintaxis `import math`, para poder usar las funciones debemos llamarlas de la siguiente manera:"
      ]
    },
    {
      "cell_type": "code",
      "execution_count": null,
      "metadata": {
        "id": "xApAyklB269c"
      },
      "outputs": [],
      "source": [
        "import math"
      ]
    },
    {
      "cell_type": "code",
      "execution_count": null,
      "metadata": {
        "id": "OrebnXL92837"
      },
      "outputs": [],
      "source": [
        "math.sqrt(25)"
      ]
    },
    {
      "cell_type": "markdown",
      "metadata": {
        "id": "nhxklz6d3JRY"
      },
      "source": [
        "**¿Qué sucede si importamos un módulo con la sintaxis `import math` y tratamos de usar una función sin antes colocar la palabra `math`?**"
      ]
    },
    {
      "cell_type": "code",
      "execution_count": null,
      "metadata": {
        "id": "-8eCO2402_v7"
      },
      "outputs": [],
      "source": [
        "sin(25)     # función sen(x)"
      ]
    },
    {
      "cell_type": "code",
      "execution_count": null,
      "metadata": {
        "id": "30ZKOxeY3A_-"
      },
      "outputs": [],
      "source": [
        "# ¿De qué manera se debe usar la función sen(x)? Escribe aqui tu respuesta:"
      ]
    },
    {
      "cell_type": "markdown",
      "metadata": {
        "id": "PiguHmwZ3l8o"
      },
      "source": [
        "Como mencionamos anteriormente, también podemos renombrar los módulos de tal forma que sean más fáciles de usar. La forma de hacerlo es la siguiente:"
      ]
    },
    {
      "cell_type": "code",
      "execution_count": null,
      "metadata": {
        "id": "4fCjGrrS4Cks"
      },
      "outputs": [],
      "source": [
        "import math as mt   # con esto renombramos el módulo math como mt.\n",
        "                    # En general, a la palabra que utilizamos para renombrar un módulo se le denomina 'alias'."
      ]
    },
    {
      "cell_type": "code",
      "execution_count": null,
      "metadata": {
        "id": "ABaVbQaz4Mnu"
      },
      "outputs": [],
      "source": [
        "mt.sqrt(25)     # ahora, en lugar de escribir math.sqrt, debemos/podemos escribir mt.sqrt"
      ]
    },
    {
      "cell_type": "markdown",
      "metadata": {
        "id": "WWRLjvNOzj-U"
      },
      "source": [
        "#### Módulos adicionales\n",
        "\n",
        "A continuación se enlistan algunos módulos adicionales de utilidad como información complementaria:\n",
        "\n",
        "* [Matplotlib](https://matplotlib.org/): Graficación en Python.\n",
        "* [Pandas](https://pandas.pydata.org/docs/user_guide/index.html): Manejo de dataframes (*hojas de cálculo*).\n",
        "* [Networkx](https://networkx.org/): Funciones y clases para trabajar con grafos.\n",
        "* [ScipPy](https://scipy.org/): Algoritmos para optimización, integración, interpolación, problemas de valores propios, ecuaciones algebraicas, ecuaciones diferenciales, entre otros.\n",
        "* [Pillow](https://pypi.org/project/Pillow/): Manejo y procesamiento de imágenes.\n",
        "* [NLTK](https://www.nltk.org/): Procesamiento de lenguaje escrito.\n",
        "* [Scikit-Learn](https://scikit-learn.org/stable/): Métodos de aprendizaje automático.\n",
        "* [Tensorflow](https://www.tensorflow.org/api_docs/python/tf): Métodos para redes neuronales."
      ]
    },
    {
      "cell_type": "markdown",
      "metadata": {
        "id": "GX0wD8Me8xxv"
      },
      "source": [
        "### Variables"
      ]
    },
    {
      "cell_type": "markdown",
      "metadata": {
        "id": "9JdDoaoDDr89"
      },
      "source": [
        "Podemos pensar a las variables como un contenedor, en el cual almacenamos información.\n",
        "\n",
        "En Python, se utiliza el signo ''`=`'' para definir una variable:\n",
        "\n",
        "```\n",
        "nombre_variable = valor\n",
        "```\n",
        "\n",
        "**Nota.** En general, llamamos 'valor' a la información almacenada en una variable.\n",
        "\n"
      ]
    },
    {
      "cell_type": "code",
      "execution_count": null,
      "metadata": {
        "id": "N6VlwIhUD06-"
      },
      "outputs": [],
      "source": [
        "Ancho = 20\n",
        "Alto = 5*9"
      ]
    },
    {
      "cell_type": "code",
      "execution_count": null,
      "metadata": {
        "id": "es5krAZW-cXD"
      },
      "outputs": [],
      "source": [
        "Ancho * Alto"
      ]
    },
    {
      "cell_type": "markdown",
      "metadata": {
        "id": "-0Sm3mrZD_2x"
      },
      "source": [
        "Si una variable no está definida (no tiene un valor asignado) Python marcará *error* al usarla."
      ]
    },
    {
      "cell_type": "code",
      "execution_count": null,
      "metadata": {
        "id": "hD_zLzqaEH2X"
      },
      "outputs": [],
      "source": [
        "n # trata de usar una variable indefinida"
      ]
    },
    {
      "cell_type": "markdown",
      "metadata": {
        "id": "SP2JIKjaLTCy"
      },
      "source": [
        "Los nombres de las variables los podemos escoger arbitrariamente. Sin embargo, es recomendable utilizar nombres significativos/intuitivos para que nos sea más fácil recordar lo que almacenamos en las variables (ojo, existen **palabras reservadas**: [https://docs.python.org/3/reference/lexical_analysis.html#keywords](https://docs.python.org/3/reference/lexical_analysis.html#keywords))."
      ]
    },
    {
      "cell_type": "code",
      "execution_count": null,
      "metadata": {
        "id": "CYVpmvdWLh1G"
      },
      "outputs": [],
      "source": [
        "numero = 1\n",
        "NUMERO = 100000000"
      ]
    },
    {
      "cell_type": "markdown",
      "metadata": {
        "id": "4rxJJvcGLk1U"
      },
      "source": [
        "Notemos que Python distingue mayúsculas de minúsculas, es decir, NUMERO ≠ numero."
      ]
    },
    {
      "cell_type": "markdown",
      "metadata": {
        "id": "UqgZXVNfdi4S"
      },
      "source": [
        "__Ejercicio__: Escribe una línea de código que imprima la suma de numero y NUMERO. Después, asigna el resultado de esta suma a una nueva variable. Hazlo en la siguiente celda."
      ]
    },
    {
      "cell_type": "code",
      "execution_count": null,
      "metadata": {
        "id": "ZM_Gpr5xLtLy"
      },
      "outputs": [],
      "source": [
        "#Elimina este comentario e inserta tu código aquí."
      ]
    },
    {
      "cell_type": "markdown",
      "metadata": {
        "id": "C-9NEkinKPMS"
      },
      "source": [
        "**Observación.** Como veremos a continuación, las cadenas de texto se escriben entre comillas, mientras que el nombre de las variables no. Sin las comillas, Python considera el correspondiete texto como una variable. Para hacer más clara esta diferencia, ejecutemos el siguiente código:"
      ]
    },
    {
      "cell_type": "code",
      "execution_count": null,
      "metadata": {
        "id": "SsK_79EHacb7"
      },
      "outputs": [],
      "source": [
        "Curso = \"Python\"\n",
        "Python = \"Curso\"\n",
        "\n",
        "print(Python, Curso)"
      ]
    },
    {
      "cell_type": "markdown",
      "metadata": {
        "id": "472BiVeGen34"
      },
      "source": [
        "La función `print()` se utiliza para mostrar texto en pantalla."
      ]
    },
    {
      "cell_type": "markdown",
      "metadata": {
        "id": "BCWQ235sGYVw"
      },
      "source": [
        "### Cadenas\n",
        "\n",
        "Además de variables numéricas `(int, float)`, Python también permite manipular cadenas de caracteres o variables de tipo `string`. Este tipo de variables se escriben entre comillas sencillas `('...')` o comillas dobles `(\"...\")`.\n"
      ]
    },
    {
      "cell_type": "code",
      "execution_count": null,
      "metadata": {
        "id": "5muok6R1QtWW"
      },
      "outputs": [],
      "source": [
        "'Hola Mundo'"
      ]
    },
    {
      "cell_type": "code",
      "execution_count": null,
      "metadata": {
        "id": "AfgHSmb1Qv-v"
      },
      "outputs": [],
      "source": [
        "\"Hola Mundo\""
      ]
    },
    {
      "cell_type": "markdown",
      "metadata": {
        "id": "wuY4qxxpIo39"
      },
      "source": [
        "Recordemos que la función `print` permite mostrar texto en pantalla. Ejecuta las siguientes dos celdas de código, ¿cuál es la diferencia?"
      ]
    },
    {
      "cell_type": "code",
      "execution_count": null,
      "metadata": {
        "id": "JLeI3YTefJPB"
      },
      "outputs": [],
      "source": [
        "'Hola Mundo'\n",
        "'Hola mundo'"
      ]
    },
    {
      "cell_type": "code",
      "execution_count": null,
      "metadata": {
        "id": "MfbxLO6vJdyj"
      },
      "outputs": [],
      "source": [
        "print('Hola Mundo')\n",
        "print('Hola mundo')"
      ]
    },
    {
      "cell_type": "markdown",
      "metadata": {
        "id": "RYI0gFg9Hw50"
      },
      "source": [
        "**Una propiedad importante de las cadenas de carecteres es que están indexadas:** de izquierda a derecha, al primer caracter se le asocia el índice 0, al segundo el índice 1, etc.  Un (solo) caracter es simplemente una cadena de tamaño uno.\n",
        "\n",
        "Entonces, podemos acceder a cualquier caracter de una variable de tipo string con la siguiente sintaxis:\n",
        "```\n",
        "'cadena_caracteres'[índice]\n",
        "```"
      ]
    },
    {
      "cell_type": "code",
      "execution_count": null,
      "metadata": {
        "id": "HQ_4X52FGRN9"
      },
      "outputs": [],
      "source": [
        "'Hola Mundo'[0]     # retorna el primer caracter"
      ]
    },
    {
      "cell_type": "code",
      "execution_count": null,
      "metadata": {
        "id": "xdMNUvdoKZi-"
      },
      "outputs": [],
      "source": [
        "'Hola Mundo'[1]     # retorna el segundo caracter"
      ]
    },
    {
      "cell_type": "code",
      "execution_count": null,
      "metadata": {
        "id": "UVTVbtiGKcLF"
      },
      "outputs": [],
      "source": [
        "'Hola Mundo'[4]     # un espacio en blanco también es un caracter"
      ]
    },
    {
      "cell_type": "markdown",
      "metadata": {
        "id": "6hjzN-xAK6xb"
      },
      "source": [
        "A continuación, se mostrarán algunas operaciones que se pueden realizar con cadena de caracteres."
      ]
    },
    {
      "cell_type": "markdown",
      "metadata": {
        "id": "LW9xF8ar_Rno"
      },
      "source": [
        "### Operaciones con Cadenas"
      ]
    },
    {
      "cell_type": "markdown",
      "metadata": {
        "id": "u8eKKqkOKDj_"
      },
      "source": [
        "Con el operador `+` podemos concatenar cadenas de texto."
      ]
    },
    {
      "cell_type": "code",
      "execution_count": null,
      "metadata": {
        "id": "-GUCKVjGKMTQ"
      },
      "outputs": [],
      "source": [
        "palabra1 = \"Geometria\"\n",
        "palabra2 = \"con\"\n",
        "palabra3 = \"Python\"\n",
        "\n",
        "palabra4 = palabra1 + \" \" + palabra2 + \" \" + palabra3"
      ]
    },
    {
      "cell_type": "code",
      "execution_count": null,
      "metadata": {
        "id": "c-kxsN_0CgGu"
      },
      "outputs": [],
      "source": [
        "print(palabra4)"
      ]
    },
    {
      "cell_type": "markdown",
      "metadata": {
        "id": "bj6yhp9kLvKP"
      },
      "source": [
        "Recordemos que las cadenas de caracteres están indexadas."
      ]
    },
    {
      "cell_type": "code",
      "execution_count": null,
      "metadata": {
        "id": "hzrdAPqQVQ4Y"
      },
      "outputs": [],
      "source": [
        "palabra = \"Python\"\n",
        "palabra[0]"
      ]
    },
    {
      "cell_type": "code",
      "execution_count": null,
      "metadata": {
        "id": "XPFWEiidVhNc"
      },
      "outputs": [],
      "source": [
        "palabra[5]"
      ]
    },
    {
      "cell_type": "markdown",
      "metadata": {
        "id": "4WUavRleVjVx"
      },
      "source": [
        "Los índices también pueden ser números negativos, lo que permite empezar a contar desde la derecha:"
      ]
    },
    {
      "cell_type": "code",
      "execution_count": null,
      "metadata": {
        "id": "ic_rKOqLVuZs"
      },
      "outputs": [],
      "source": [
        "palabra[-1]"
      ]
    },
    {
      "cell_type": "code",
      "execution_count": null,
      "metadata": {
        "id": "1WvVugNCVyK6"
      },
      "outputs": [],
      "source": [
        "palabra[-2]"
      ]
    },
    {
      "cell_type": "code",
      "execution_count": null,
      "metadata": {
        "id": "tdB3RWAmV1nr"
      },
      "outputs": [],
      "source": [
        "palabra[-6]"
      ]
    },
    {
      "cell_type": "markdown",
      "metadata": {
        "id": "AxuuboBSV9hC"
      },
      "source": [
        "También es posible acceder a un conjunto de caracteres de la cadena de texto:"
      ]
    },
    {
      "cell_type": "code",
      "execution_count": null,
      "metadata": {
        "id": "oAvRKZF8WHQP"
      },
      "outputs": [],
      "source": [
        "palabra[0: 2]"
      ]
    },
    {
      "cell_type": "code",
      "execution_count": null,
      "metadata": {
        "id": "7PTzxVPGWK2M"
      },
      "outputs": [],
      "source": [
        "palabra[2: 5]"
      ]
    },
    {
      "cell_type": "markdown",
      "metadata": {
        "id": "1_zftv3cWNKl"
      },
      "source": [
        "Debemos notar que el primer índice esta incluido y el último no."
      ]
    },
    {
      "cell_type": "code",
      "execution_count": null,
      "metadata": {
        "id": "efY2HofuWqB5"
      },
      "outputs": [],
      "source": [
        "palabra[0 : 2] + palabra[2: 6]"
      ]
    },
    {
      "cell_type": "code",
      "execution_count": null,
      "metadata": {
        "id": "Q7Zn4SOMWv6g"
      },
      "outputs": [],
      "source": [
        "palabra[0 : 4] + palabra[4: 6]"
      ]
    },
    {
      "cell_type": "markdown",
      "metadata": {
        "id": "1kTjxtlvW0xS"
      },
      "source": [
        "Omiciones de índices:"
      ]
    },
    {
      "cell_type": "code",
      "execution_count": null,
      "metadata": {
        "id": "KRxWNACbXI2q"
      },
      "outputs": [],
      "source": [
        "palabra[ : 2]   # caracteres desde el principio hasta la posicion 2, la cual es excluida"
      ]
    },
    {
      "cell_type": "code",
      "execution_count": null,
      "metadata": {
        "id": "Nof6LbjzXUAC"
      },
      "outputs": [],
      "source": [
        "palabra[4: ]    # caracteres desde la posicion 4 (incluida) hasta el final"
      ]
    },
    {
      "cell_type": "code",
      "execution_count": null,
      "metadata": {
        "id": "bi7BHg_XXb-Z"
      },
      "outputs": [],
      "source": [
        "palabra[-2: ]   # caracteres desde la posicion -2 (incluida) hasta el final"
      ]
    },
    {
      "cell_type": "code",
      "execution_count": null,
      "metadata": {
        "id": "8ivzXE26EYs3"
      },
      "outputs": [],
      "source": [
        "palabra[ : ]"
      ]
    },
    {
      "cell_type": "markdown",
      "metadata": {
        "id": "wl3Cr4XjXuWJ"
      },
      "source": [
        "Usar índices fuera de rango para extraer un caracter marcará *error*:"
      ]
    },
    {
      "cell_type": "code",
      "execution_count": null,
      "metadata": {
        "id": "qCQSp_GdEi6A"
      },
      "outputs": [],
      "source": [
        "palabra[7]"
      ]
    },
    {
      "cell_type": "code",
      "execution_count": null,
      "metadata": {
        "id": "X8OulJsuYHUd"
      },
      "outputs": [],
      "source": [
        "palabra[100: ] # ¿Qué sucede?"
      ]
    },
    {
      "cell_type": "markdown",
      "metadata": {
        "id": "rdUowp3bYKVG"
      },
      "source": [
        "Las cadenas de caracteres son immutables. Por lo que si intentamos asignar un nuevo valor a una posición de una cadena se marcará *error*:"
      ]
    },
    {
      "cell_type": "code",
      "execution_count": null,
      "metadata": {
        "id": "KQhrwcKTYj1W"
      },
      "outputs": [],
      "source": [
        "palabra[0] = \"J\""
      ]
    },
    {
      "cell_type": "markdown",
      "metadata": {
        "id": "QJGw1u-dYpzk"
      },
      "source": [
        "Si queremos una cadena de caracteres diferente, debemos crearla:"
      ]
    },
    {
      "cell_type": "code",
      "execution_count": null,
      "metadata": {
        "id": "U0SyR5rCYvP0"
      },
      "outputs": [],
      "source": [
        "\"J\" + palabra[1: ]"
      ]
    },
    {
      "cell_type": "code",
      "execution_count": null,
      "metadata": {
        "id": "1F1XbrOOY5bh"
      },
      "outputs": [],
      "source": [
        "palabra[ : 2] + \"py\""
      ]
    },
    {
      "cell_type": "markdown",
      "metadata": {
        "id": "Xh4SkFaTY_L1"
      },
      "source": [
        "La función `len()` retorna el tamaño de la cadena:"
      ]
    },
    {
      "cell_type": "code",
      "execution_count": null,
      "metadata": {
        "id": "f_ycx28SZFIm"
      },
      "outputs": [],
      "source": [
        "s = \"Bienvenidos \"\n",
        "len(s)"
      ]
    }
  ],
  "metadata": {
    "colab": {
      "collapsed_sections": [
        "WZehJJ170fyP",
        "ljVLzirwLPsV",
        "Xod6gKQQk06O",
        "GX0wD8Me8xxv",
        "BCWQ235sGYVw",
        "LW9xF8ar_Rno"
      ],
      "provenance": [],
      "include_colab_link": true
    },
    "kernelspec": {
      "display_name": "Python 3",
      "name": "python3"
    }
  },
  "nbformat": 4,
  "nbformat_minor": 0
}