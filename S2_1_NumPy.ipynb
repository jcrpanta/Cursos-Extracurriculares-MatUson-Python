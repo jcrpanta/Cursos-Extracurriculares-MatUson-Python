{
  "cells": [
    {
      "cell_type": "markdown",
      "metadata": {
        "id": "view-in-github",
        "colab_type": "text"
      },
      "source": [
        "<a href=\"https://colab.research.google.com/github/jcrpanta/Cursos-Extracurriculares-MatUson-Python/blob/main/S2_1_NumPy.ipynb\" target=\"_parent\"><img src=\"https://colab.research.google.com/assets/colab-badge.svg\" alt=\"Open In Colab\"/></a>"
      ]
    },
    {
      "cell_type": "markdown",
      "metadata": {
        "id": "h2_l5ROtBwfF"
      },
      "source": [
        "<div>\n",
        "<img src=\"https://github.com/gmauricio-toledo/Curso-Python-2023/blob/main/Notebooks/img/numpy-logo.png?raw=1\" width=\"800\"/>\n",
        "</div>"
      ]
    },
    {
      "cell_type": "markdown",
      "metadata": {
        "id": "n4rmDnVtFfpJ"
      },
      "source": [
        "[NumPy](https://numpy.org/doc/stable/user/index.html#user) es el paquete fundamental para la computación científica en Python. Es una biblioteca de Python que proporciona un objeto de matriz multidimensional, varios objetos derivados y muchas rutinas para realizar operaciones rápidas con matrices, incluidas operaciones matemáticas, lógicas, de manipulación de formas, ordenación, selección, I/O, transformadas discretas de Fourier, álgebra lineal básica, operaciones estadísticas básicas, simulación aleatoria y mucho más.\n",
        "\n",
        "Además, NumPy es usado ampliamente por otros módulos importantes de Python como Pandas, Scikit learn, TensorFlow, etc.\n",
        "\n",
        "NumPy ofrece una enorme gama de formas rápidas y eficientes de crear arreglos y manipular datos numéricos dentro de ellos.\n",
        "\n",
        "Mientras que una lista Python puede contener diferentes tipos de datos dentro de una misma lista, todos los elementos de un array NumPy deben ser homogéneos. Las operaciones matemáticas que se realizan sobre arrays serían extremadamente ineficientes si los arrays no fueran homogéneos.\n",
        "\n",
        "Los arrays de NumPy son más rápidos y compactos que las listas de Python. Un array consume menos memoria y es cómodo de usar. NumPy utiliza mucha menos memoria para almacenar datos (ya que no necesita almacenar el tipo de dato de cada entrada) y proporciona un mecanismo de especificación de los tipos de datos. Esto permite optimizar aún más el código."
      ]
    },
    {
      "cell_type": "code",
      "execution_count": null,
      "metadata": {
        "id": "pAlxquVJXJBk"
      },
      "outputs": [],
      "source": [
        "import numpy"
      ]
    },
    {
      "cell_type": "markdown",
      "metadata": {
        "id": "c6KtXqDQOTHA"
      },
      "source": [
        "*Tradicionalmente* se importa con el siguiente alias"
      ]
    },
    {
      "cell_type": "code",
      "execution_count": null,
      "metadata": {
        "id": "K-GpORpAXKMo"
      },
      "outputs": [],
      "source": [
        "import numpy as np"
      ]
    },
    {
      "cell_type": "markdown",
      "metadata": {
        "id": "_NRRl6Q9CXD5"
      },
      "source": [
        "#Inicialización de arreglos `ndarray`"
      ]
    },
    {
      "cell_type": "markdown",
      "metadata": {
        "id": "6plEOFRAYtU-"
      },
      "source": [
        "Una de las clases fundamentales y básicas de Numpy es el arreglo `numpy.ndarray`. Este puede pensarse como un vector, matriz o tensor $n$-dimensional.\n",
        "\n",
        "* **Vectores**: Arreglos unidimensionales de tamaño (forma) $(n,)$.\n",
        "* **Matrices**: Arreglos bidimensionales de tamaño $(n,m)$. Son $n$ filas y $m$ columnas.\n",
        "\n",
        "Se puede definir a partir de varios métodos (funciones de Numpy que generan arreglos de acuerdo a ciertas condiciones) o a partir de una lista de python. [Detalles](https://numpy.org/doc/stable/user/basics.creation.html)"
      ]
    },
    {
      "cell_type": "markdown",
      "metadata": {
        "id": "yEqnefZqQlmd"
      },
      "source": [
        "**Ejemplo:** Definiendo un arreglo de numpy a partir de una lista de Python. Pensémoslo como un vector."
      ]
    },
    {
      "cell_type": "code",
      "execution_count": null,
      "metadata": {
        "id": "iwPmRCiNY9CA"
      },
      "outputs": [],
      "source": [
        "valores = [3,2,-3,5.5]\n",
        "\n",
        "arreglo = np.array(valores)\n",
        "\n",
        "print(arreglo)\n",
        "print(type(arreglo))"
      ]
    },
    {
      "cell_type": "markdown",
      "metadata": {
        "id": "L2pMPnkkIxvy"
      },
      "source": [
        "**Ejemplo:** También podemos definir arreglos bidimensionales. Penśemoslos como matrices."
      ]
    },
    {
      "cell_type": "code",
      "execution_count": null,
      "metadata": {
        "id": "C4MZqpWUIxvz"
      },
      "outputs": [],
      "source": [
        "valores = [[-1,1],[0,3],[2,-1],[0.5,-3]]\n",
        "\n",
        "matriz = np.array(valores,dtype=float)\n",
        "print(matriz)"
      ]
    },
    {
      "cell_type": "markdown",
      "metadata": {
        "id": "yxhCqv9iQrD0"
      },
      "source": [
        "**Ejemplo:** Definiendo un arreglo de numpy de tamaño determinado lleno con ceros o unos."
      ]
    },
    {
      "cell_type": "code",
      "execution_count": null,
      "metadata": {
        "id": "r9KD3Wv4QxWl"
      },
      "outputs": [],
      "source": [
        "arreglo_ceros = np.zeros(shape=(4,))\n",
        "print(arreglo_ceros,end='\\n\\n')\n",
        "\n",
        "matriz_unos = np.ones(shape=(3,2))\n",
        "print(matriz_unos)"
      ]
    },
    {
      "cell_type": "markdown",
      "metadata": {
        "id": "heqyxKGBIxv2"
      },
      "source": [
        "**Ejemplo:** Definir una matriz de números aleatorios de una distribución normal\n",
        "\n",
        "[Documentación](https://numpy.org/doc/stable/reference/random/generated/numpy.random.normal.html)"
      ]
    },
    {
      "cell_type": "code",
      "execution_count": null,
      "metadata": {
        "id": "g5EO75_EIxv2"
      },
      "outputs": [],
      "source": [
        "# np.random.seed(55)\n",
        "\n",
        "arreglo_aleatorio = np.random.normal(size=(2,3,4))\n",
        "# arreglo_aleatorio = np.random.normal(loc=0,scale=1,size=(2,3,4))\n",
        "arreglo_aleatorio"
      ]
    },
    {
      "cell_type": "markdown",
      "metadata": {
        "id": "4y4N60xqIxv2"
      },
      "source": [
        "# Algunos métodos y atributos de los arreglos de Numpy\n",
        "\n",
        "[Lista de atributos y métodos de un arreglo de Numpy](https://numpy.org/doc/stable/reference/generated/numpy.ndarray.html)"
      ]
    },
    {
      "cell_type": "markdown",
      "metadata": {
        "id": "E3pxYWYqZGoG"
      },
      "source": [
        "Una vez que tenemos un arreglo, podemos usar cualquiera de los métodos de un arreglo de numpy. Por ejemplo,\n",
        "\n",
        "* La forma del arreglo:"
      ]
    },
    {
      "cell_type": "code",
      "execution_count": null,
      "metadata": {
        "id": "K14x1rozZMEw"
      },
      "outputs": [],
      "source": [
        "print(arreglo.shape)\n",
        "print(matriz_unos.shape)\n",
        "print(arreglo_aleatorio.shape)"
      ]
    },
    {
      "cell_type": "markdown",
      "metadata": {
        "id": "Q8t3vC0aIxv4"
      },
      "source": [
        "**Son tuplas**. Por lo tanto, podemos hacer:"
      ]
    },
    {
      "cell_type": "code",
      "execution_count": null,
      "metadata": {
        "id": "e0LMSsVdIxv4"
      },
      "outputs": [],
      "source": [
        "print(f\"Tenemos {matriz_unos.shape[1]} columnas en la matriz de 1's\")"
      ]
    },
    {
      "cell_type": "markdown",
      "metadata": {
        "id": "EGyNm14KZTBy"
      },
      "source": [
        "* El número de dimensiones del arreglo"
      ]
    },
    {
      "cell_type": "code",
      "execution_count": null,
      "metadata": {
        "id": "A3HkW-kfZPA1"
      },
      "outputs": [],
      "source": [
        "print(arreglo.ndim)\n",
        "print(matriz_unos.ndim)\n",
        "print(arreglo_aleatorio.ndim)"
      ]
    },
    {
      "cell_type": "markdown",
      "metadata": {
        "id": "RO3So_MjIxv6"
      },
      "source": [
        "## Métodos de los arreglos\n",
        "\n",
        "Cada arreglo tiene métodos, son funciones que el arreglo saber hacer sobre sí mismo."
      ]
    },
    {
      "cell_type": "markdown",
      "metadata": {
        "id": "CZVCEd9DIxv6"
      },
      "source": [
        "Podemos cambiar la forma de un arreglo usando el método `reshape`"
      ]
    },
    {
      "cell_type": "code",
      "execution_count": null,
      "metadata": {
        "id": "L_Ews6C3Ixv6"
      },
      "outputs": [],
      "source": [
        "v = np.array(list(range(12)))\n",
        "print(v)\n",
        "\n",
        "w = v.reshape(3,4)\n",
        "print(w)"
      ]
    },
    {
      "cell_type": "code",
      "execution_count": null,
      "metadata": {
        "id": "vSRlKPZ8Ixv7"
      },
      "outputs": [],
      "source": [
        "w = v.reshape(3,-1)\n",
        "print(w)"
      ]
    },
    {
      "cell_type": "markdown",
      "metadata": {
        "id": "7WaOTcAUIxv7"
      },
      "source": [
        "Cambiemos el vector a un vector columna:"
      ]
    },
    {
      "cell_type": "code",
      "execution_count": null,
      "metadata": {
        "id": "NkAjVo6qIxv7"
      },
      "outputs": [],
      "source": [
        "w = v.reshape(-1,1)\n",
        "w"
      ]
    },
    {
      "cell_type": "markdown",
      "metadata": {
        "id": "Une0ycMMIxv8"
      },
      "source": [
        "El método `transpose()` transpone la matriz"
      ]
    },
    {
      "cell_type": "code",
      "execution_count": null,
      "metadata": {
        "id": "DnbzN5hMIxv9"
      },
      "outputs": [],
      "source": [
        "w = v.reshape(3,-1)\n",
        "w.transpose()"
      ]
    },
    {
      "cell_type": "markdown",
      "metadata": {
        "id": "h1TB43BcuWCp"
      },
      "source": [
        "# Indexación\n",
        "\n",
        "Podemos acceder a los valores individuales del arreglo, renglones o filas.\n",
        "\n",
        "**Recordar que en python indexamos las secuencias como $0,1,2,...$ en lugar de $1,2,3,...$**"
      ]
    },
    {
      "cell_type": "code",
      "execution_count": null,
      "metadata": {
        "id": "qLpYoRtaIxv-"
      },
      "outputs": [],
      "source": [
        "matriz = np.array([[-1,1],[0,3],[2,-1],[0.5,-3]])\n",
        "matriz"
      ]
    },
    {
      "cell_type": "code",
      "execution_count": null,
      "metadata": {
        "id": "DYNfwPqtuVG-"
      },
      "outputs": [],
      "source": [
        "entrada = matriz[1,0]\n",
        "print(f\"Elemento (2,1): {entrada}\")\n",
        "\n",
        "entrada = matriz[1,-1]\n",
        "print(f\"Elemento en la segunda fila y última columna: {entrada}\")\n",
        "\n",
        "renglon = matriz[1]\n",
        "renglon = matriz[1,:]\n",
        "print(f\"Renglón segundo: {renglon}\")\n",
        "\n",
        "columna = matriz[:,0]\n",
        "print(f\"Columna primera: {columna}\")"
      ]
    },
    {
      "cell_type": "markdown",
      "metadata": {
        "id": "CNzCNtz2IxwA"
      },
      "source": [
        "La siguiente técnica se llama **slicing**. En este caso, extraemos la submatriz compuesta por el segundo y tercer renglón, segunda y tercer columna."
      ]
    },
    {
      "cell_type": "code",
      "execution_count": null,
      "metadata": {
        "id": "aJLdhEP6IxwA"
      },
      "outputs": [],
      "source": [
        "A = np.array(list(range(12))).reshape(3,4)\n",
        "print(A)\n",
        "\n",
        "A[1:,1:-1]"
      ]
    },
    {
      "cell_type": "markdown",
      "metadata": {
        "id": "GLZ7PgddIxwB"
      },
      "source": [
        "**¡Precaución!** Cuando hacemos un slicing de un arreglo y queremos modificarlo, hay que tener en cuenta que esto modifica el arreglo original del cual se hizo el slicing. Para evitar esto, se hace una copia."
      ]
    },
    {
      "cell_type": "code",
      "execution_count": null,
      "metadata": {
        "id": "wmGNoKJsIxwC"
      },
      "outputs": [],
      "source": [
        "print(A)\n",
        "\n",
        "A0 = A[1:,1:-1]\n",
        "A0 += 3\n",
        "\n",
        "print(A)"
      ]
    },
    {
      "cell_type": "code",
      "execution_count": null,
      "metadata": {
        "id": "uN7PPZcGIxwC"
      },
      "outputs": [],
      "source": [
        "A = np.array(list(range(12))).reshape(3,4)\n",
        "print(A)\n",
        "\n",
        "A0 = A[1:,1:-1].copy()\n",
        "A0 += 3\n",
        "\n",
        "print(A0)\n",
        "print(A)"
      ]
    },
    {
      "cell_type": "markdown",
      "metadata": {
        "id": "CSxOV5LIIxwD"
      },
      "source": [
        "## Máscaras"
      ]
    },
    {
      "cell_type": "code",
      "execution_count": null,
      "metadata": {
        "id": "VVOr9cGZIxwD"
      },
      "outputs": [],
      "source": [
        "A = np.array(list(range(12))).reshape(3,4)\n",
        "print(A)"
      ]
    },
    {
      "cell_type": "markdown",
      "metadata": {
        "id": "3XD5ybWqIxwD"
      },
      "source": [
        "Una **mascara** es un arreglo de booleanos que índica si una entrada de un arreglo satisface una condición."
      ]
    },
    {
      "cell_type": "code",
      "execution_count": null,
      "metadata": {
        "id": "yelRNaOYIxwE"
      },
      "outputs": [],
      "source": [
        "A>4"
      ]
    },
    {
      "cell_type": "markdown",
      "metadata": {
        "id": "eImTYbQNIxwE"
      },
      "source": [
        "Las mascaras son útiles para operar sobre partes de arreglos que satisfacen alguna condición"
      ]
    },
    {
      "cell_type": "code",
      "execution_count": null,
      "metadata": {
        "id": "H3a7CjjTIxwF"
      },
      "outputs": [],
      "source": [
        "A[A>4]=-1\n",
        "print(A)"
      ]
    },
    {
      "cell_type": "markdown",
      "metadata": {
        "id": "PIWSHpuWIxwF"
      },
      "source": [
        "¿Qué entradas del arreglo son múltiplos de 3?"
      ]
    },
    {
      "cell_type": "code",
      "execution_count": null,
      "metadata": {
        "id": "Hn8Dvw8WIxwF"
      },
      "outputs": [],
      "source": [
        "A = np.array(list(range(12))).reshape(3,4)\n",
        "print(A)\n",
        "\n",
        "A%3==0"
      ]
    },
    {
      "cell_type": "markdown",
      "metadata": {
        "id": "K-O1-ZzrIxwG"
      },
      "source": [
        "Estas entradas que sean múltiplos de 3, multipliquemoslas por 5:"
      ]
    },
    {
      "cell_type": "code",
      "execution_count": null,
      "metadata": {
        "id": "xxsrociHIxwG"
      },
      "outputs": [],
      "source": [
        "A[A%3==0] *= 5\n",
        "print(A)"
      ]
    },
    {
      "cell_type": "markdown",
      "metadata": {
        "id": "-eObwLSsIxwG"
      },
      "source": [
        "# Aritmética en Numpy (Vectorización)"
      ]
    },
    {
      "cell_type": "markdown",
      "metadata": {
        "id": "hO6niWkPIxwH"
      },
      "source": [
        "Consideremos los vectores siguientes:"
      ]
    },
    {
      "cell_type": "code",
      "execution_count": null,
      "metadata": {
        "id": "XDjeR15bIxwH"
      },
      "outputs": [],
      "source": [
        "v = np.array([-1,2,0,1,5,4])\n",
        "w = np.array([3,1,-2,5,-9,-3])"
      ]
    },
    {
      "cell_type": "markdown",
      "metadata": {
        "id": "CeEaxZJgIxwH"
      },
      "source": [
        "Un ejemplo más grande:"
      ]
    },
    {
      "cell_type": "code",
      "execution_count": null,
      "metadata": {
        "id": "FaiVHD5fIxwI"
      },
      "outputs": [],
      "source": [
        "# v = np.random.uniform(size=(10000,))\n",
        "# w = np.random.uniform(size=(10000,))\n",
        "\n",
        "# print(v[:5])\n",
        "# print(w[:5])"
      ]
    },
    {
      "cell_type": "markdown",
      "metadata": {
        "id": "eCrzm69XIxwI"
      },
      "source": [
        "¿Cómo sumaríamos dos vectores?"
      ]
    },
    {
      "cell_type": "code",
      "execution_count": null,
      "metadata": {
        "id": "y5v4ElsvIxwI"
      },
      "outputs": [],
      "source": [
        "import time\n",
        "\n",
        "suma = np.zeros_like(v)\n",
        "inicio = time.time()\n",
        "for j in range(v.shape[0]):\n",
        "    suma[j] = v[j]+w[j]\n",
        "final = time.time()\n",
        "print(f\"Duración: {final-inicio} segundos\")\n",
        "print(suma)"
      ]
    },
    {
      "cell_type": "markdown",
      "metadata": {
        "id": "1XgOu3XQIxwJ"
      },
      "source": [
        "Otra manera, usando la función `enumerate`:"
      ]
    },
    {
      "cell_type": "code",
      "execution_count": null,
      "metadata": {
        "id": "KmYMt30NIxwJ"
      },
      "outputs": [],
      "source": [
        "suma = np.zeros_like(v)\n",
        "\n",
        "for j,(vi,wi) in enumerate(zip(v,w)):\n",
        "    # if j <= 2:\n",
        "    #     print(j,vi,wi)\n",
        "    suma[j] = vi+wi\n",
        "print(suma)"
      ]
    },
    {
      "cell_type": "markdown",
      "metadata": {
        "id": "rwKow1hG9CLB"
      },
      "source": [
        "Usando vectorización de Numpy:"
      ]
    },
    {
      "cell_type": "code",
      "execution_count": null,
      "metadata": {
        "id": "eMxh2ni6FoWx"
      },
      "outputs": [],
      "source": [
        "import time\n",
        "\n",
        "inicio = time.time()\n",
        "suma = v+w\n",
        "final = time.time()\n",
        "print(f\"Duración: {final-inicio} segundos\")\n",
        "print(suma)"
      ]
    },
    {
      "cell_type": "markdown",
      "metadata": {
        "id": "cazXHag3IxwK"
      },
      "source": [
        "**Ejemplos:** Realizar una operación, coordenada a coordenada, con cada entrada de un vector o una matriz"
      ]
    },
    {
      "cell_type": "code",
      "execution_count": null,
      "metadata": {
        "id": "wxfLelWgIxwK"
      },
      "outputs": [],
      "source": [
        "v = np.array([-1,2,0,1,5,4])\n",
        "w = np.array([3,1,-2,5,-9,-3])"
      ]
    },
    {
      "cell_type": "code",
      "execution_count": null,
      "metadata": {
        "id": "rnSmL-GZIxwK"
      },
      "outputs": [],
      "source": [
        "v+1"
      ]
    },
    {
      "cell_type": "code",
      "execution_count": null,
      "metadata": {
        "id": "CvvGBr6bIxwL"
      },
      "outputs": [],
      "source": [
        "v*3"
      ]
    },
    {
      "cell_type": "code",
      "execution_count": null,
      "metadata": {
        "id": "isSLFZNCIxwL"
      },
      "outputs": [],
      "source": [
        "v**2"
      ]
    },
    {
      "cell_type": "code",
      "execution_count": null,
      "metadata": {
        "id": "ViwL2ldPIxwL"
      },
      "outputs": [],
      "source": [
        "v/w"
      ]
    },
    {
      "cell_type": "code",
      "execution_count": null,
      "metadata": {
        "id": "cUuEel-gIxwL"
      },
      "outputs": [],
      "source": [
        "v**np.abs(w)"
      ]
    },
    {
      "cell_type": "code",
      "execution_count": null,
      "metadata": {
        "id": "bKHswTD7IxwM"
      },
      "outputs": [],
      "source": [
        "np.sqrt(np.abs(v))"
      ]
    },
    {
      "cell_type": "markdown",
      "metadata": {
        "id": "o4LZ51MQIxwM"
      },
      "source": [
        "Observar lo que ocurre si usamos la implementación de la raíz cuadrada del módulo `math`:"
      ]
    },
    {
      "cell_type": "code",
      "execution_count": null,
      "metadata": {
        "id": "-PKiDb48IxwM"
      },
      "outputs": [],
      "source": [
        "from math import sqrt\n",
        "\n",
        "sqrt(np.abs(v))"
      ]
    },
    {
      "cell_type": "markdown",
      "metadata": {
        "id": "hKjS9kIg3Zl2"
      },
      "source": [
        "## Productos"
      ]
    },
    {
      "cell_type": "code",
      "source": [
        "import numpy as np"
      ],
      "metadata": {
        "id": "DYKmR0CA3yu4"
      },
      "execution_count": null,
      "outputs": []
    },
    {
      "cell_type": "code",
      "execution_count": null,
      "metadata": {
        "id": "c6yHwDJE3Zl2"
      },
      "outputs": [],
      "source": [
        "A = np.array([[3,2,1],[5,3,4],[1,1,-1]],dtype=float)\n",
        "B = np.array([[1,0,0],[0,1,1],[0,0,1]],dtype=float)\n",
        "\n",
        "print(B)\n",
        "print(A)"
      ]
    },
    {
      "cell_type": "markdown",
      "metadata": {
        "id": "E7EUKcJk3Zl2"
      },
      "source": [
        "Tres maneras de realizar el producto de matrices"
      ]
    },
    {
      "cell_type": "code",
      "execution_count": null,
      "metadata": {
        "id": "mqlkMU5p3Zl2"
      },
      "outputs": [],
      "source": [
        "print(np.dot(B,A))\n",
        "print(B@A)\n",
        "print(np.matmul(B,A))"
      ]
    },
    {
      "cell_type": "markdown",
      "metadata": {
        "id": "4OX3qKxZ3Zl3"
      },
      "source": [
        "Ahora, realicemos el producto punto de dos vectores"
      ]
    },
    {
      "cell_type": "code",
      "execution_count": null,
      "metadata": {
        "id": "mbInJv8M3Zl3"
      },
      "outputs": [],
      "source": [
        "u = np.array([3,2,0,-4])\n",
        "v = np.array([-1,1,3,-2])\n",
        "\n",
        "print(u,v)"
      ]
    },
    {
      "cell_type": "markdown",
      "metadata": {
        "id": "6LJt7BRj3Zl3"
      },
      "source": [
        "Dos maneras de hacer el producto punto de dos maneras:"
      ]
    },
    {
      "cell_type": "code",
      "execution_count": null,
      "metadata": {
        "id": "gaLzzeGl3Zl4"
      },
      "outputs": [],
      "source": [
        "print(np.dot(u,v))\n",
        "print(np.matmul(u,v))"
      ]
    },
    {
      "cell_type": "code",
      "execution_count": null,
      "metadata": {
        "id": "Bh3QMlB23Zl4"
      },
      "outputs": [],
      "source": [
        "np.sum(u*v)"
      ]
    },
    {
      "cell_type": "markdown",
      "metadata": {
        "id": "2eLrOCvP3Zl5"
      },
      "source": [
        "## Un poco de algebra lineal"
      ]
    },
    {
      "cell_type": "markdown",
      "metadata": {
        "id": "4z72E1rI3Zl5"
      },
      "source": [
        "Numpy contiene el submodulo [`linalg`](https://numpy.org/doc/stable/reference/routines.linalg.html) con el cual podemos hacer algebra lineal."
      ]
    },
    {
      "cell_type": "code",
      "execution_count": null,
      "metadata": {
        "id": "9ewqg5Ba3Zl6"
      },
      "outputs": [],
      "source": [
        "import numpy as np\n",
        "\n",
        "A = np.array([[3,2,0,5],[0,1,4,2],[0,0,-2,3],[0,0,0,-5]],dtype=float)\n",
        "print(A)"
      ]
    },
    {
      "cell_type": "markdown",
      "metadata": {
        "id": "7kQLM9lt3Zl6"
      },
      "source": [
        "Podemos importar el submodulo de varias formas. En este ejemplo, calculamos el determinante de la matriz A"
      ]
    },
    {
      "cell_type": "code",
      "execution_count": null,
      "metadata": {
        "id": "Gigb8gIR3Zl7"
      },
      "outputs": [],
      "source": [
        "from numpy import linalg\n",
        "\n",
        "linalg.det(A)"
      ]
    },
    {
      "cell_type": "code",
      "execution_count": null,
      "metadata": {
        "id": "vwaVNJ4D3Zl7"
      },
      "outputs": [],
      "source": [
        "np.linalg.det(A)"
      ]
    },
    {
      "cell_type": "code",
      "execution_count": null,
      "metadata": {
        "id": "Z0dPpsnI3Zl7"
      },
      "outputs": [],
      "source": [
        "from numpy.linalg import det\n",
        "\n",
        "det(A)"
      ]
    },
    {
      "cell_type": "markdown",
      "metadata": {
        "id": "BhjJjli13Zl8"
      },
      "source": [
        "**Ejemplo:** Calculamos la inversa de la matriz A"
      ]
    },
    {
      "cell_type": "code",
      "execution_count": null,
      "metadata": {
        "id": "fTNMFk1e3Zl8"
      },
      "outputs": [],
      "source": [
        "np.linalg.inv(A)"
      ]
    },
    {
      "cell_type": "markdown",
      "metadata": {
        "id": "iIF0knnv3Zl8"
      },
      "source": [
        "**Ejemplo:** Resolver el sistema de ecuaciones\n",
        "\n",
        "$$\\left(\\begin{array}{ccc}\n",
        "3 & 2 & 1 \\\\\n",
        "5 & 3 & 4 \\\\\n",
        "1 & 1 & -1  \n",
        "\\end{array}\\right)\n",
        "\\left(\n",
        "\\begin{array}{c}\n",
        "x \\\\\n",
        "y \\\\\n",
        "z  \n",
        "\\end{array}\n",
        "\\right)\n",
        "=\n",
        "\\left(\n",
        "\\begin{array}{c}\n",
        "1 \\\\\n",
        "2 \\\\\n",
        "1  \n",
        "\\end{array}\n",
        "\\right)\n",
        "$$\n",
        "\n",
        "usaremos la función [`solve`](https://numpy.org/doc/stable/reference/generated/numpy.linalg.solve.html) la cual usa la implementación [LAPACK routine _gesv](https://www.netlib.org/lapack/explore-html/d7/d3b/group__double_g_esolve_ga5ee879032a8365897c3ba91e3dc8d512.html)."
      ]
    },
    {
      "cell_type": "code",
      "execution_count": null,
      "metadata": {
        "id": "7oEuPUu03Zl8"
      },
      "outputs": [],
      "source": [
        "A = np.array([[3,2,1],[5,3,4],[1,1,-1]],dtype=float)\n",
        "b = np.array([1,2,1])\n",
        "print(A,b)\n",
        "\n",
        "np.linalg.solve(A,b)"
      ]
    },
    {
      "cell_type": "markdown",
      "metadata": {
        "id": "BC_nUZZr3Zl9"
      },
      "source": [
        "En el ejemplo anterior, calculemos la norma del vector $b$"
      ]
    },
    {
      "cell_type": "code",
      "execution_count": null,
      "metadata": {
        "id": "jrljx0NU3Zl9"
      },
      "outputs": [],
      "source": [
        "np.linalg.norm(b)"
      ]
    },
    {
      "cell_type": "markdown",
      "metadata": {
        "id": "mMazEm2hIxwN"
      },
      "source": [
        "# Funciones de Numpy\n",
        "\n",
        "Numpy tiene también funciones que operan sobre arreglos"
      ]
    },
    {
      "cell_type": "code",
      "execution_count": null,
      "metadata": {
        "id": "g_BOzgq_IxwN"
      },
      "outputs": [],
      "source": [
        "v = np.array([-1,2,0,1,5,4])\n",
        "print(v)"
      ]
    },
    {
      "cell_type": "markdown",
      "metadata": {
        "id": "RwF1XoXzIxwO"
      },
      "source": [
        "Promedio, suma, máximos y mínimos"
      ]
    },
    {
      "cell_type": "code",
      "execution_count": null,
      "metadata": {
        "id": "2fb5aq6UIxwO"
      },
      "outputs": [],
      "source": [
        "print(f\"La suma de todos los elementos de v es {np.sum(v)}\")\n",
        "print(f\"El promedio de todos los elementos de v es {np.mean(v)}\")\n",
        "print(f\"El máximo del arreglo es {np.max(v)}\")\n",
        "print(f\"El máximo del arreglo se alcanza en el índice {np.argmax(v)}\")\n",
        "print(f\"El mínimo del arreglo es {np.min(v)}\")\n",
        "print(f\"El máximo del arreglo se alcanza en el mínimo {np.argmin(v)}\")"
      ]
    },
    {
      "cell_type": "markdown",
      "metadata": {
        "id": "RQGItniTIxwP"
      },
      "source": [
        "Ahora, en matrices:"
      ]
    },
    {
      "cell_type": "code",
      "execution_count": null,
      "metadata": {
        "id": "d5V3IZniIxwQ"
      },
      "outputs": [],
      "source": [
        "A = np.array(list(range(12))).reshape(3,4)\n",
        "print(A)"
      ]
    },
    {
      "cell_type": "code",
      "execution_count": null,
      "metadata": {
        "id": "0LPoFuxOIxwR"
      },
      "outputs": [],
      "source": [
        "print(f\"La suma de todos los elementos de A es {np.sum(A)}\")\n",
        "print(f\"El promedio de todos los elementos de A es {np.mean(A)}\")\n",
        "print(f\"El máximo del arreglo es {np.max(A)}\")\n",
        "print(f\"El máximo del arreglo se alcanza en el índice {np.argmax(A)}\")\n",
        "print(f\"El mínimo del arreglo es {np.min(A)}\")\n",
        "print(f\"El máximo del arreglo se alcanza en el mínimo {np.argmin(A)}\")"
      ]
    },
    {
      "cell_type": "markdown",
      "metadata": {
        "id": "YPvsEopHIxwT"
      },
      "source": [
        "**Las operaciones se están haciendo sobre la matriz aplanada.** Si queremos que se por renglones o filas, hacemos:"
      ]
    },
    {
      "cell_type": "code",
      "execution_count": null,
      "metadata": {
        "id": "qWJBabrFIxwU"
      },
      "outputs": [],
      "source": [
        "print(A)"
      ]
    },
    {
      "cell_type": "code",
      "execution_count": null,
      "metadata": {
        "id": "n770MI-KIxwU"
      },
      "outputs": [],
      "source": [
        "print(f\"La suma de todos los elementos de A, por columna, es {np.sum(A,axis=0)}\") # Desaparecemos el axis=0 (filas)\n",
        "print(f\"La suma de todos los elementos de A, por fila, es {np.sum(A,axis=1)}\\n\") # Desaparecemos el axis=1 (columnas)\n",
        "print(f\"El promedio de todos los elementos de A, por columna, es {np.mean(A,axis=0)}\")\n",
        "print(f\"El promedio de todos los elementos de A, por fila, es {np.mean(A,axis=1)}\\n\")\n",
        "print(f\"El máximo del arreglo, por columna, es {np.max(A,axis=0)}\")\n",
        "print(f\"El máximo del arreglo, por fila, es {np.max(A,axis=1)}\\n\")\n",
        "print(f\"El máximo del arreglo, por columna, se alcanza en los índices {np.argmax(A,axis=0)} de las filas\")\n",
        "print(f\"El máximo del arreglo, por fila, se alcanza en los índices {np.argmax(A,axis=1)} de las columnas\\n\")"
      ]
    },
    {
      "cell_type": "markdown",
      "metadata": {
        "id": "b4piqB7WWcQv"
      },
      "source": [
        "# Ejercicio: Calcular errores"
      ]
    },
    {
      "cell_type": "markdown",
      "metadata": {
        "id": "JZyUphKihxHT"
      },
      "source": [
        "Defina una función para calcular el error absoluto y relativo entre un valor real y una aproximación a este valor"
      ]
    },
    {
      "cell_type": "code",
      "execution_count": null,
      "metadata": {
        "id": "qi6xeywGUQ2E"
      },
      "outputs": [],
      "source": [
        "import numpy as np\n",
        "\n",
        "def error_absoluto(real, aproximacion):\n",
        "    # código\n",
        "    return\n",
        "\n",
        "def error_relativo(real, aproximacion):\n",
        "    # código\n",
        "    return"
      ]
    },
    {
      "cell_type": "markdown",
      "metadata": {
        "id": "LRx9klXwh8-y"
      },
      "source": [
        "Como ejemplo, consideremos el siguiente valor real y una secuencia de aproximaciones a dicho valor real"
      ]
    },
    {
      "cell_type": "code",
      "execution_count": null,
      "metadata": {
        "id": "xMDjPgIEWoR8"
      },
      "outputs": [],
      "source": [
        "valor_real = 4.5\n",
        "\n",
        "aproximaciones = [2.5, 2.7, 3.1, 3.6, 3.9, 4.2, 4.6, 4.55]"
      ]
    },
    {
      "cell_type": "markdown",
      "metadata": {
        "id": "0_OLoCf5iDqy"
      },
      "source": [
        "Usando un ciclo `for` calculamos e imprimimos el error absoluto entre cada valor de la secuencia y el valor real"
      ]
    },
    {
      "cell_type": "code",
      "execution_count": null,
      "metadata": {
        "id": "09bdXtsvYP9G"
      },
      "outputs": [],
      "source": [
        "for aprox in aproximaciones:\n",
        "    print(f\"Error absoluto: {error_absoluto(valor_real,aprox)}\")\n",
        "    # print(f\"Error absoluto: {round(error_absoluto(valor_real,aprox),3)}\")"
      ]
    },
    {
      "cell_type": "markdown",
      "metadata": {
        "id": "ejCKplCZhYhv"
      },
      "source": [
        "Usando numpy podemos simplificar el proceso anterior y hacerlo más rápido. Esta es una de muchas ventajas de Numpy."
      ]
    },
    {
      "cell_type": "code",
      "execution_count": null,
      "metadata": {
        "id": "LDyAQ4U-YbVh"
      },
      "outputs": [],
      "source": [
        "aproximaciones = np.array(aproximaciones)\n",
        "\n",
        "error_absoluto(valor_real, aproximaciones)"
      ]
    },
    {
      "cell_type": "markdown",
      "metadata": {
        "id": "A6qtZ0ycWvFw"
      },
      "source": [
        "# Ejercicio: Regresión Lineal"
      ]
    },
    {
      "cell_type": "markdown",
      "metadata": {
        "id": "lm734fF-X8f6"
      },
      "source": [
        "Implemente una función que realice la regresión lineal de un conjunto de datos, usando una implementación clásica, con ciclos."
      ]
    },
    {
      "cell_type": "markdown",
      "metadata": {
        "id": "wqCNJIzLIxwY"
      },
      "source": [
        "La función regresará la pendiente y la ordenada al origen de la recta que mejor aproxima (por mínimos cuadrados) a los datos. Estos dos números están determinados por\n",
        "\n",
        "$$m=\\frac{n\\sum x_iy_i-\\sum x_i \\sum y_i}{n\\sum x_i^2-(\\sum x_i)^2}$$\n",
        "\n",
        "$$b=\\overline{y} - m \\overline{x}$$\n",
        "\n",
        "donde $\\overline{y}$, $\\overline{x}$ son los promedios de las coordenadas $y_i,x_i$ respectivamente. Los datos están dados por\n",
        "\n",
        "$$\n",
        "\\begin{array}{cc}\n",
        "x_1 & y_1 \\\\\n",
        "x_2 & y_2 \\\\\n",
        "\\vdots & \\vdots \\\\\n",
        "x_n & y_n\n",
        "\\end{array}\n",
        "$$"
      ]
    },
    {
      "cell_type": "markdown",
      "metadata": {
        "id": "DuwXlMJlYXAk"
      },
      "source": [
        "1. Usando ciclos"
      ]
    },
    {
      "cell_type": "code",
      "execution_count": null,
      "metadata": {
        "id": "8rwb1LIaWxxi"
      },
      "outputs": [],
      "source": [
        "def regresion_lineal(datos, report=False):\n",
        "    # código\n",
        "    return (a_0,a_1)"
      ]
    },
    {
      "cell_type": "markdown",
      "metadata": {
        "id": "vYpdn5cWYYBJ"
      },
      "source": [
        "**Ejemplo:** Usando vectorización de Numpy"
      ]
    },
    {
      "cell_type": "code",
      "execution_count": null,
      "metadata": {
        "id": "Bxo60sd7YYem"
      },
      "outputs": [],
      "source": [
        "import numpy as np\n",
        "\n",
        "def regresion_lineal_vectorizada(datos, report=False):\n",
        "    n = datos.shape[0]\n",
        "    x_prom = np.mean(datos,axis=0)[0]\n",
        "    y_prom = np.mean(datos,axis=0)[1]\n",
        "    sum_xy = np.sum(datos[:,0]*datos[:,1])\n",
        "    sum_x_2s = np.sum(datos[:,0]*datos[:,0])\n",
        "    sum_x = np.sum(datos[:,0])\n",
        "    sum_y = np.sum(datos[:,1])\n",
        "    if report:\n",
        "        print(f\"x_prom = {x_prom},\\ny_prom = {y_prom},\\nsum_xy = {sum_xy},\\nsum_x_2s = {sum_x_2s},\\nsum_x = {sum_x},\\nsum_y = {sum_y}\")\n",
        "    a_1 = (n*sum_xy - sum_x*sum_y)/(n*sum_x_2s - sum_x**2)\n",
        "    a_0 = y_prom - a_1*x_prom\n",
        "    print(f\"Pendiente: {a_1}, Intercepto: {a_0}\")\n",
        "    return (a_0,a_1)"
      ]
    },
    {
      "cell_type": "markdown",
      "metadata": {
        "id": "8psMS09hZMu2"
      },
      "source": [
        "**Prueba:**"
      ]
    },
    {
      "cell_type": "code",
      "execution_count": null,
      "metadata": {
        "id": "x4ZamQg8ZFuW"
      },
      "outputs": [],
      "source": [
        "datos = np.array([[0,2,4,6,9,11,12,15,17,19],[5,6,7,6,9,8,7,10,12,12]]).transpose()\n",
        "print(datos)"
      ]
    },
    {
      "cell_type": "code",
      "execution_count": null,
      "metadata": {
        "id": "SFbw3XwYZMaF"
      },
      "outputs": [],
      "source": [
        "#regresion_lineal(datos)"
      ]
    },
    {
      "cell_type": "code",
      "execution_count": null,
      "metadata": {
        "id": "8712K4SBZSWQ"
      },
      "outputs": [],
      "source": [
        "regresion_lineal_vectorizada(datos)"
      ]
    },
    {
      "cell_type": "markdown",
      "metadata": {
        "id": "hxRNp67pIxwc"
      },
      "source": [
        "Podríamos graficar estas rectas y datos, esto lo haremos en la siguiente sesión"
      ]
    },
    {
      "cell_type": "markdown",
      "metadata": {
        "id": "ut6gzFAnK1TV"
      },
      "source": [
        "## Regresión Lineal con scikit-learn\n",
        "\n",
        "Hay varias implementaciones de regresión lineal usando Python. Usaremos la de scikit learn, que es el módulo estandar para aprendizaje automático."
      ]
    },
    {
      "cell_type": "code",
      "execution_count": null,
      "metadata": {
        "id": "ZoUE0cTPK4jg"
      },
      "outputs": [],
      "source": [
        "from sklearn.linear_model import LinearRegression\n",
        "\n",
        "lr = LinearRegression()\n",
        "lr.fit(datos[:,0].reshape(-1,1),datos[:,1])"
      ]
    },
    {
      "cell_type": "code",
      "execution_count": null,
      "metadata": {
        "id": "2mLCJZUOLHqd"
      },
      "outputs": [],
      "source": [
        "lr.intercept_, lr.coef_"
      ]
    },
    {
      "cell_type": "markdown",
      "metadata": {
        "id": "wpkjwSwcLOJf"
      },
      "source": [
        "Podemos calcular el coeficiente de determinación $r^2$"
      ]
    },
    {
      "cell_type": "code",
      "execution_count": null,
      "metadata": {
        "id": "SIF6D5xfLKzW"
      },
      "outputs": [],
      "source": [
        "lr.score(datos[:,0].reshape(-1,1),datos[:,1])"
      ]
    },
    {
      "cell_type": "markdown",
      "metadata": {
        "id": "vED3XVF-Ixv0"
      },
      "source": [
        "### Opcional: Acerca del menor consumo de memoria de numpy vs listas:"
      ]
    },
    {
      "cell_type": "code",
      "execution_count": null,
      "metadata": {
        "id": "X840vFigIxv0"
      },
      "outputs": [],
      "source": [
        "import sys\n",
        "\n",
        "valores = [3,2,-3,5.5]\n",
        "arreglo = np.array(valores)\n",
        "\n",
        "sys.getsizeof(valores), sys.getsizeof(arreglo)"
      ]
    },
    {
      "cell_type": "code",
      "execution_count": null,
      "metadata": {
        "id": "8MnzhqyEIxv1"
      },
      "outputs": [],
      "source": [
        "import numpy as np\n",
        "import sys\n",
        "\n",
        "N = int(1e7)\n",
        "\n",
        "narray = np.zeros(N)\n",
        "mylist = []\n",
        "\n",
        "for i in range(N):\n",
        "    mylist.append(narray[i])\n",
        "\n",
        "print(\"size of np.array:\", sys.getsizeof(narray))\n",
        "print(\"size of list    :\", sys.getsizeof(mylist))"
      ]
    }
  ],
  "metadata": {
    "colab": {
      "provenance": [],
      "collapsed_sections": [
        "_NRRl6Q9CXD5",
        "4y4N60xqIxv2",
        "h1TB43BcuWCp",
        "-eObwLSsIxwG",
        "mMazEm2hIxwN",
        "b4piqB7WWcQv",
        "A6qtZ0ycWvFw"
      ],
      "include_colab_link": true
    },
    "kernelspec": {
      "display_name": "Python 3",
      "name": "python3"
    },
    "language_info": {
      "codemirror_mode": {
        "name": "ipython",
        "version": 3
      },
      "file_extension": ".py",
      "mimetype": "text/x-python",
      "name": "python",
      "nbconvert_exporter": "python",
      "pygments_lexer": "ipython3",
      "version": "3.8.10"
    }
  },
  "nbformat": 4,
  "nbformat_minor": 0
}