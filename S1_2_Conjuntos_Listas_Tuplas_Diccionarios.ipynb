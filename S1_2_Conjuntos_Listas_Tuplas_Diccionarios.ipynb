{
  "cells": [
    {
      "cell_type": "markdown",
      "metadata": {
        "id": "view-in-github",
        "colab_type": "text"
      },
      "source": [
        "<a href=\"https://colab.research.google.com/github/jcrpanta/Cursos-Extracurriculares-Python/blob/main/S1_2_Conjuntos_Listas_Tuplas_Diccionarios.ipynb\" target=\"_parent\"><img src=\"https://colab.research.google.com/assets/colab-badge.svg\" alt=\"Open In Colab\"/></a>"
      ]
    },
    {
      "cell_type": "markdown",
      "metadata": {
        "id": "hhCXbwlN8gvo"
      },
      "source": [
        "# Conjuntos\n",
        "\n",
        "* Los conjuntos son colecciones no ordenadas de objetos únicos.\n",
        "* Los elementos de un conjunto deben ser datos inmutables, es decir, datos que no podemos cambiar, modificar o actualizar.\n",
        "* Los objetos inmutables más comunes son: `int`, `float`, `string`, `bool`, `complex`, `tuple`.\n",
        "* Los elementos de un conjunto se escriben entre llaves `{}` separados por comas. Sin embargo, si queremos definir al *conjunto vacío* debemos usar la función `set()`.\n"
      ]
    },
    {
      "cell_type": "code",
      "metadata": {
        "id": "6LaO3KuGY21v"
      },
      "source": [
        "A = {1, 2, 3}\n",
        "A"
      ],
      "execution_count": null,
      "outputs": []
    },
    {
      "cell_type": "code",
      "metadata": {
        "id": "UiBSHdDVMM1P"
      },
      "source": [
        "B = set() # conjunto vacio\n",
        "B"
      ],
      "execution_count": null,
      "outputs": []
    },
    {
      "cell_type": "code",
      "metadata": {
        "id": "hPRonvsdOQdA"
      },
      "source": [
        "C = {2, 4, 6}\n",
        "C"
      ],
      "execution_count": null,
      "outputs": []
    },
    {
      "cell_type": "markdown",
      "metadata": {
        "id": "eCxn8XiIOdMY"
      },
      "source": [
        "Los conjuntos son objetos mutables, es decir, podemos modificarlos: agregar elementos o removerlos.\n",
        "\n",
        "Con la función `add()` podemos añadir un elemento y con la función `discard()` podemos remover un elemento. Por ejemplo, agreguemos al conjunto A anteriormente definido el elemento `6` y removamos del conjunto C el elemento `4`."
      ]
    },
    {
      "cell_type": "code",
      "metadata": {
        "id": "NAfBX1mKPPbU"
      },
      "source": [
        "A.add(6)\n",
        "A"
      ],
      "execution_count": null,
      "outputs": []
    },
    {
      "cell_type": "code",
      "source": [
        "C.discard(4)\n",
        "C"
      ],
      "metadata": {
        "id": "v0DTdX7F-K5N"
      },
      "execution_count": null,
      "outputs": []
    },
    {
      "cell_type": "markdown",
      "metadata": {
        "id": "2WltFs3zPmtb"
      },
      "source": [
        "**Nota:** Si el elemento que se quiere remover de un conjunto no pertenece a éste, la función `discard()` no realiza acción alguna."
      ]
    },
    {
      "cell_type": "code",
      "metadata": {
        "id": "7Fu0QwM7P_YO"
      },
      "source": [
        "C.discard(5)\n",
        "C"
      ],
      "execution_count": null,
      "outputs": []
    },
    {
      "cell_type": "markdown",
      "metadata": {
        "id": "uazdJ2w3QHkv"
      },
      "source": [
        "Para determinar si un elemento pertenece a un conjunto utilizamos la función `in`. Lo que esta función nos retorna es la palabra `True` si el elemento está en el conjunto o la palabra `False` en caso de que no."
      ]
    },
    {
      "cell_type": "code",
      "metadata": {
        "id": "KBJXyulgQFG1"
      },
      "source": [
        "1 in A"
      ],
      "execution_count": null,
      "outputs": []
    },
    {
      "cell_type": "code",
      "metadata": {
        "id": "tIjISskZQRQK"
      },
      "source": [
        "4 in A"
      ],
      "execution_count": null,
      "outputs": []
    },
    {
      "cell_type": "markdown",
      "metadata": {
        "id": "4PM-LI_iPCHi"
      },
      "source": [
        "Si por el contrario queremos saber si un elemento no se encuentra en el conjunto, debemos usar la instrucción `not in`."
      ]
    },
    {
      "cell_type": "code",
      "metadata": {
        "id": "B6Se_3ApV8e-"
      },
      "source": [
        "1 not in A"
      ],
      "execution_count": null,
      "outputs": []
    },
    {
      "cell_type": "code",
      "metadata": {
        "id": "IHKGUlZLV8HR"
      },
      "source": [
        "4 not in A"
      ],
      "execution_count": null,
      "outputs": []
    },
    {
      "cell_type": "markdown",
      "metadata": {
        "id": "6bdhFPShQcpM"
      },
      "source": [
        "La función `clear()` elimina todos los elementos de un conjunto."
      ]
    },
    {
      "cell_type": "code",
      "metadata": {
        "id": "QFtcYgYkQa6x"
      },
      "source": [
        "C.clear()\n",
        "C"
      ],
      "execution_count": null,
      "outputs": []
    },
    {
      "cell_type": "markdown",
      "metadata": {
        "id": "pOLgtfOPRxj-"
      },
      "source": [
        "Los elementos de los conjuntos no tienen que ser del mismo tipo. Podemos tener en un solo conjunto objetos de tipo `int`, `string`, `tuple`, etc. Por ejemplo:"
      ]
    },
    {
      "cell_type": "code",
      "metadata": {
        "id": "qCwXCCGLQk9x"
      },
      "source": [
        "D = {1, 2, 'Hola', 'Mundo', (1, 2)}     # Más adelante profundizaremos en tuplas."
      ],
      "execution_count": null,
      "outputs": []
    },
    {
      "cell_type": "code",
      "metadata": {
        "id": "TlD5hLsCSojt"
      },
      "source": [
        "D"
      ],
      "execution_count": null,
      "outputs": []
    },
    {
      "cell_type": "markdown",
      "metadata": {
        "id": "-bD0y983Sstz"
      },
      "source": [
        "# Operaciones con Conjuntos"
      ]
    },
    {
      "cell_type": "markdown",
      "metadata": {
        "id": "QsQ__PlGSy1g"
      },
      "source": [
        "Con los conjuntos en Python podemos realizar (casi) las mismas operaciones que con conjuntos abstractos: unión, intersección, diferencia, etc."
      ]
    },
    {
      "cell_type": "markdown",
      "metadata": {
        "id": "oSxGK9blTFGL"
      },
      "source": [
        "* **Unión**\n",
        "\n",
        "La unión de conjuntos se realiza con el caracter `|`. Esta operación (conjuntista) retorna un nuevo conjunto que contiene los elementos que se encuentran al menos en uno de los conjuntos operados."
      ]
    },
    {
      "cell_type": "code",
      "metadata": {
        "id": "Bm2aKNptSpCU"
      },
      "source": [
        "a = {1, 2, 3, 4}\n",
        "b = {2, 4, 6, 8}\n",
        "a|b"
      ],
      "execution_count": null,
      "outputs": []
    },
    {
      "cell_type": "markdown",
      "source": [
        "**Ejercicio:** Define tres conjuntos nuevos y calcula la unión de ellos."
      ],
      "metadata": {
        "id": "awqR0KKs_Aqg"
      }
    },
    {
      "cell_type": "code",
      "metadata": {
        "id": "0wXtUZ1hTcZB"
      },
      "source": [
        "# Solución"
      ],
      "execution_count": null,
      "outputs": []
    },
    {
      "cell_type": "markdown",
      "metadata": {
        "id": "7REEan3iU7FM"
      },
      "source": [
        "Otra manera de calcular la unión de dos conjuntos, digamos $A$ y $B$, es utilizando la función `union()`: `A.union(B)`.\n"
      ]
    },
    {
      "cell_type": "code",
      "metadata": {
        "id": "SfeacPBrU_VQ"
      },
      "source": [
        "A = {'Hola', 'Mundo'}\n",
        "B = {'Hola', 'a', 'todos'}\n",
        "A.union(B)"
      ],
      "execution_count": null,
      "outputs": []
    },
    {
      "cell_type": "markdown",
      "metadata": {
        "id": "AVqk-p4qUDVP"
      },
      "source": [
        "* **Intersección**\n",
        "\n",
        "La intersección opera de manera análoga a la unión, pero en este caso se debe utilizar el símbolo `&`. Esta operación (conjuntista) nos retorna un nuevo conjunto que contiene los elementos que pertenecen a los dos conjuntos operados."
      ]
    },
    {
      "cell_type": "code",
      "metadata": {
        "id": "alisIpAkURJF"
      },
      "source": [
        "a & b"
      ],
      "execution_count": null,
      "outputs": []
    },
    {
      "cell_type": "markdown",
      "source": [
        "**Ejercicio:** Calcula la intersección de los conjuntos que definiste en el ejercicio anterior."
      ],
      "metadata": {
        "id": "19lcYahS_Qlj"
      }
    },
    {
      "cell_type": "code",
      "metadata": {
        "id": "lYyFiFDgUSvp"
      },
      "source": [
        "# Solución"
      ],
      "execution_count": null,
      "outputs": []
    },
    {
      "cell_type": "markdown",
      "metadata": {
        "id": "yTEz9PXuVk1P"
      },
      "source": [
        "Al igual que con la unión de conjuntos, existe otra manera de calcular la intersección de dos conjuntos con la instrucción `A.intersection(B)`."
      ]
    },
    {
      "cell_type": "code",
      "metadata": {
        "id": "xNm7yvLzV3wu"
      },
      "source": [
        "A.intersection(B)"
      ],
      "execution_count": null,
      "outputs": []
    },
    {
      "cell_type": "markdown",
      "metadata": {
        "id": "KvjB0tMGUcpZ"
      },
      "source": [
        "* **Diferencia**\n",
        "\n",
        "La diferencia de dos conjuntos $A$ y $B$ nos retorna un conjunto que contiene los elementos de $A$ que no están en $B$. Por ejemplo:\n"
      ]
    },
    {
      "cell_type": "code",
      "metadata": {
        "id": "hTbl9-O_WkkN"
      },
      "source": [
        "a - b"
      ],
      "execution_count": null,
      "outputs": []
    },
    {
      "cell_type": "markdown",
      "metadata": {
        "id": "sT4QTe2PfWJ1"
      },
      "source": [
        "Otra forma de calcular la diferencia entre los dos conjuntos es con la instrucción `A.difference(B)`:"
      ]
    },
    {
      "cell_type": "code",
      "metadata": {
        "id": "3CG2clKBWlXn"
      },
      "source": [
        "A.difference(B)"
      ],
      "execution_count": null,
      "outputs": []
    },
    {
      "cell_type": "markdown",
      "source": [
        "**Ejercicio:** Define dos conjuntos y calcula su diferencia.\n"
      ],
      "metadata": {
        "id": "sM1cLdB2_bD4"
      }
    },
    {
      "cell_type": "code",
      "metadata": {
        "id": "wCEkIsx2fgtb"
      },
      "source": [
        "# Solución"
      ],
      "execution_count": null,
      "outputs": []
    },
    {
      "cell_type": "markdown",
      "metadata": {
        "id": "VgUssWCbfoeO"
      },
      "source": [
        "* **Diferencia Simétrica**\n",
        "\n",
        "La diferencia simétrica nos retorna un nuevo conjunto que contiene todos los elementos que pertenecen a alguno de los dos conjuntos operados pero NO a ambos. El símbolo que debemos utilizar para esta operación es `^`."
      ]
    },
    {
      "cell_type": "code",
      "metadata": {
        "id": "kWZxhJl2wf-a"
      },
      "source": [
        "a ^ b"
      ],
      "execution_count": null,
      "outputs": []
    },
    {
      "cell_type": "markdown",
      "metadata": {
        "id": "Kvn_HMOkwqRh"
      },
      "source": [
        "Otra forma de calcular la diferencia simétrica es con la instrucción `a.symmetric_difference(b)`:"
      ]
    },
    {
      "cell_type": "code",
      "metadata": {
        "id": "Cd4sRpZKsFHK"
      },
      "source": [
        "a.symmetric_difference(b)"
      ],
      "execution_count": null,
      "outputs": []
    },
    {
      "cell_type": "markdown",
      "metadata": {
        "id": "3-qUKBh7sQ3u"
      },
      "source": [
        "¿Qué sucede si escribimos en diferente orden los conjuntos? ¿Afecta el orden en que escribimos los conjuntos?\n"
      ]
    },
    {
      "cell_type": "markdown",
      "source": [
        "**Ejercicio:** Calcula la diferencia simétrica de `b` con `a` y compara tu resultado la diferencia simétrica de `a` con `b`."
      ],
      "metadata": {
        "id": "KC4Kf1u__iX0"
      }
    },
    {
      "cell_type": "code",
      "metadata": {
        "id": "jKsrJlynsLYw"
      },
      "source": [
        "# Solución"
      ],
      "execution_count": null,
      "outputs": []
    },
    {
      "cell_type": "markdown",
      "source": [
        "**Ejercicio:** Define dos conjuntos nuevos y calcula su diferencia simétrica."
      ],
      "metadata": {
        "id": "m0VM3_aJ_uof"
      }
    },
    {
      "cell_type": "code",
      "metadata": {
        "id": "_486KmLLs094"
      },
      "source": [
        "# Solución"
      ],
      "execution_count": null,
      "outputs": []
    },
    {
      "cell_type": "markdown",
      "metadata": {
        "id": "Y2di0EChtERn"
      },
      "source": [
        "* **Subconjuntos**\n",
        "\n",
        "Python también nos permite saber si un conjunto $V$ es subconjunto de un conjunto $U$, es decir, si $V\\subset U$. La instrucción que debemos usar es `V.issubset(U)`."
      ]
    },
    {
      "cell_type": "code",
      "metadata": {
        "id": "QaNqnncNtaS4"
      },
      "source": [
        "u = {1, 2, 3, 4, 5}\n",
        "v = {2, 4}\n",
        "v.issubset(u)"
      ],
      "execution_count": null,
      "outputs": []
    },
    {
      "cell_type": "markdown",
      "metadata": {
        "id": "2l3ONhOet9OS"
      },
      "source": [
        "También podemos preguntarnos si el conjunto $U$ contiene al conjunto $V$. En Python,  $U$ se  llama un superconjunto de $V$ y la instrucción que debemos usar es: `U.issuperset(V)`."
      ]
    },
    {
      "cell_type": "code",
      "metadata": {
        "id": "Z3pkw7vithCm"
      },
      "source": [
        "u.issuperset(v)"
      ],
      "execution_count": null,
      "outputs": []
    },
    {
      "cell_type": "markdown",
      "source": [
        "**Ejercicio:** ¿`u` es un subconjunto de `u`? ¿`u` es un superconjunto de `u`?"
      ],
      "metadata": {
        "id": "qpoPDF0a_5IX"
      }
    },
    {
      "cell_type": "code",
      "metadata": {
        "id": "S_0SqrJ2uev6"
      },
      "source": [
        "# Solución"
      ],
      "execution_count": null,
      "outputs": []
    },
    {
      "cell_type": "markdown",
      "metadata": {
        "id": "EwX6YpUeu1Ok"
      },
      "source": [
        "* **Conjuntos ajenos**\n",
        "\n",
        "Dos conjuntos $U, V$ son ajenos  si su intersección es es el conjunto vacío, es decir, si no tienen ningún elemento en común. La instrucción que usamos es `U.isdisjoint(V)` . Esta instrucción retorna el valor de `False` si comparten al menos un elemento y el valor de `True` si no tienen elementos en común."
      ]
    },
    {
      "cell_type": "code",
      "metadata": {
        "id": "L1t_V6jFvx5c"
      },
      "source": [
        "u.isdisjoint(b)"
      ],
      "execution_count": null,
      "outputs": []
    },
    {
      "cell_type": "markdown",
      "source": [
        "**Ejercicio:** Define tres conjuntos A, B, C tales que A sea ajeno a B y A no sea ajeno a C."
      ],
      "metadata": {
        "id": "eMTaH5meAEWt"
      }
    },
    {
      "cell_type": "code",
      "metadata": {
        "id": "MJeMI6Mgvzyr"
      },
      "source": [
        "# Solución"
      ],
      "execution_count": null,
      "outputs": []
    },
    {
      "cell_type": "markdown",
      "metadata": {
        "id": "aCBZvOZn3V6D"
      },
      "source": [
        "# Listas\n",
        "* Las listas se utilizan para almacenar varios elementos en una sola variable.\n",
        "* Las listas se crean utilizando corchetes.\n",
        "* Los elementos de la lista están **ordenados, son modificables y permiten valores duplicados**.\n",
        "* Cuando decimos que las listas están ordenadas, significa que los elementos tienen un orden definido, y ese orden no cambiará. Si se añaden nuevos elementos a una lista, éstos se colocarán al final de la misma.\n",
        "* La lista es modificable, lo que significa que podemos cambiar, añadir y eliminar elementos de una lista después de haberla creado.\n",
        "* Como las listas están indexadas, las listas pueden tener elementos distintos con el mismo valor.\n",
        "\n",
        "[Documentación](https://docs.python.org/3/tutorial/datastructures.html)"
      ]
    },
    {
      "cell_type": "markdown",
      "metadata": {
        "id": "0a2XKGuHaTR-"
      },
      "source": [
        "Lista vacía:"
      ]
    },
    {
      "cell_type": "code",
      "execution_count": null,
      "metadata": {
        "id": "1gUdm3jfzlCB"
      },
      "outputs": [],
      "source": [
        "empty = []\n",
        "empty"
      ]
    },
    {
      "cell_type": "markdown",
      "metadata": {
        "id": "BPmike6haV-I"
      },
      "source": [
        "Lista no vacía:"
      ]
    },
    {
      "cell_type": "code",
      "execution_count": null,
      "metadata": {
        "id": "X6_VTC9moTAM"
      },
      "outputs": [],
      "source": [
        "numbers = [1, 2, 3]\n",
        "numbers"
      ]
    },
    {
      "cell_type": "markdown",
      "metadata": {
        "id": "h9l7kUOC43iL"
      },
      "source": [
        "Las listas pueden contener distintos tipos de datos:"
      ]
    },
    {
      "cell_type": "code",
      "execution_count": null,
      "metadata": {
        "id": "jBqfcq6Q4-Yl"
      },
      "outputs": [],
      "source": [
        "mixed = ['a', 1, 2.0, [13], {}]\n",
        "mixed"
      ]
    },
    {
      "cell_type": "markdown",
      "metadata": {
        "id": "_rehYX145nEk"
      },
      "source": [
        "Se puede acceder a los elementos de las listas utilizando índices de forma similar a las cadenas:"
      ]
    },
    {
      "cell_type": "code",
      "execution_count": null,
      "metadata": {
        "id": "98QVzpN_ogFQ"
      },
      "outputs": [],
      "source": [
        "mixed[0]"
      ]
    },
    {
      "cell_type": "code",
      "execution_count": null,
      "metadata": {
        "id": "j5XB0hVZ6S5E"
      },
      "outputs": [],
      "source": [
        "mixed[-2]"
      ]
    },
    {
      "cell_type": "code",
      "execution_count": null,
      "metadata": {
        "id": "7EJZyQUl7y_5"
      },
      "outputs": [],
      "source": [
        "mixed[4]"
      ]
    },
    {
      "cell_type": "markdown",
      "metadata": {
        "id": "wzPgAr_s_CrC"
      },
      "source": [
        "**Cambiar valores de una lista:**"
      ]
    },
    {
      "cell_type": "code",
      "execution_count": null,
      "metadata": {
        "id": "UIrYSc-3bdWc"
      },
      "outputs": [],
      "source": [
        "letters = ['a', 'b', 'c', 'd', 'e', 'f', 'g']"
      ]
    },
    {
      "cell_type": "code",
      "execution_count": null,
      "metadata": {
        "id": "BZGy8c8bov2q"
      },
      "outputs": [],
      "source": [
        "letters[-1] = 'a'\n",
        "letters"
      ]
    },
    {
      "cell_type": "markdown",
      "metadata": {
        "id": "g4-XjayC8KO7"
      },
      "source": [
        "**Agregar elementos a una lista:**"
      ]
    },
    {
      "cell_type": "code",
      "execution_count": null,
      "metadata": {
        "id": "o1cDG_NTcL2X"
      },
      "outputs": [],
      "source": [
        "letters = ['a', 'b', 'c', 'd', 'e', 'f', 'g']"
      ]
    },
    {
      "cell_type": "code",
      "execution_count": null,
      "metadata": {
        "id": "7l9O1BOz89Sg"
      },
      "outputs": [],
      "source": [
        "letters.append('A')\n",
        "letters"
      ]
    },
    {
      "cell_type": "code",
      "execution_count": null,
      "metadata": {
        "id": "BMtM1P_GcSJp"
      },
      "outputs": [],
      "source": [
        "letters.append('B')\n",
        "letters"
      ]
    },
    {
      "cell_type": "code",
      "execution_count": null,
      "metadata": {
        "id": "G83ifb7DcmPX"
      },
      "outputs": [],
      "source": [
        "letters.append('C')\n",
        "letters"
      ]
    },
    {
      "cell_type": "markdown",
      "metadata": {
        "id": "GOWYij2p9bwL"
      },
      "source": [
        "Insertar al principio de la lista:"
      ]
    },
    {
      "cell_type": "code",
      "execution_count": null,
      "metadata": {
        "id": "KgMcKp5W9fI7"
      },
      "outputs": [],
      "source": [
        "letters.insert(0, 'A')\n",
        "letters"
      ]
    },
    {
      "cell_type": "code",
      "execution_count": null,
      "metadata": {
        "id": "XYa29cU8c09E"
      },
      "outputs": [],
      "source": [
        "letters.insert(0, 'B')\n",
        "letters"
      ]
    },
    {
      "cell_type": "code",
      "execution_count": null,
      "metadata": {
        "id": "N2F2Dp9hc3H-"
      },
      "outputs": [],
      "source": [
        "letters.insert(0, 'C')\n",
        "letters"
      ]
    },
    {
      "cell_type": "markdown",
      "metadata": {
        "id": "z2pfGnq7-PHc"
      },
      "source": [
        "Insertar en una posición arbitraria:"
      ]
    },
    {
      "cell_type": "code",
      "execution_count": null,
      "metadata": {
        "id": "SgovUUMS-TxT"
      },
      "outputs": [],
      "source": [
        "letters.insert(2, '1')\n",
        "letters"
      ]
    },
    {
      "cell_type": "markdown",
      "metadata": {
        "id": "W2WMgepZAjkO"
      },
      "source": [
        "**Concatenar listas:**"
      ]
    },
    {
      "cell_type": "code",
      "execution_count": null,
      "metadata": {
        "id": "ZJmmTw8zdXnS"
      },
      "outputs": [],
      "source": [
        "letters = ['a', 'b', 'c', 'd', 'e', 'f', 'g']"
      ]
    },
    {
      "cell_type": "code",
      "execution_count": null,
      "metadata": {
        "id": "UYn06yndAoNH"
      },
      "outputs": [],
      "source": [
        "letters.extend(numbers)\n",
        "letters"
      ]
    },
    {
      "cell_type": "code",
      "execution_count": null,
      "metadata": {
        "id": "7i2nzD19dhiC"
      },
      "outputs": [],
      "source": [
        "letters = ['a', 'b', 'c', 'd', 'e', 'f', 'g']"
      ]
    },
    {
      "cell_type": "code",
      "execution_count": null,
      "metadata": {
        "id": "7Qnkm9J-dc-O"
      },
      "outputs": [],
      "source": [
        "letters + numbers"
      ]
    },
    {
      "cell_type": "markdown",
      "metadata": {
        "id": "PGcA5_5__RZm"
      },
      "source": [
        "**Intercambiar dos elementos:**"
      ]
    },
    {
      "cell_type": "code",
      "execution_count": null,
      "metadata": {
        "id": "egbXdmQ__UB4"
      },
      "outputs": [],
      "source": [
        "letters[0], letters[1] = letters[1], letters[0]\n",
        "letters"
      ]
    },
    {
      "cell_type": "markdown",
      "metadata": {
        "id": "RNirVSMaHOp4"
      },
      "source": [
        "### Eliminar elementos de una lista (OPCIONAL)\n",
        "\n",
        "Hay dos métodos:\n",
        "\n",
        "* `pop()`: Borra elementos mediante el índice.\n",
        "* `remove()`: Borra elementos mediante el valor.\n",
        "\n",
        "[Documentación](https://docs.python.org/3/tutorial/datastructures.html#more-on-lists)\n"
      ]
    },
    {
      "cell_type": "markdown",
      "metadata": {
        "id": "K0ecop0OHXo_"
      },
      "source": [
        "\"Pop\" desde el final:"
      ]
    },
    {
      "cell_type": "code",
      "execution_count": null,
      "metadata": {
        "id": "ZfFG3MZ7HdXa"
      },
      "outputs": [],
      "source": [
        "letters = ['a', 'b', 'c', 'd', 'e', 'f']\n",
        "letters.pop()\n",
        "letters"
      ]
    },
    {
      "cell_type": "code",
      "execution_count": null,
      "metadata": {
        "id": "CeBTcmW2ee0N"
      },
      "outputs": [],
      "source": [
        "letters.pop()\n",
        "letters"
      ]
    },
    {
      "cell_type": "code",
      "execution_count": null,
      "metadata": {
        "id": "LsbjHgipefrt"
      },
      "outputs": [],
      "source": [
        "letters.pop()\n",
        "letters"
      ]
    },
    {
      "cell_type": "markdown",
      "metadata": {
        "id": "WSm1EhxBH8a2"
      },
      "source": [
        "\"Pop\" por índice:"
      ]
    },
    {
      "cell_type": "code",
      "execution_count": null,
      "metadata": {
        "id": "NmhD0RDTewJ4"
      },
      "outputs": [],
      "source": [
        "letters = ['a', 'b', 'c', 'd', 'e', 'f']"
      ]
    },
    {
      "cell_type": "code",
      "execution_count": null,
      "metadata": {
        "id": "R62Fg9l4IAYV"
      },
      "outputs": [],
      "source": [
        "letters.pop(2)\n",
        "letters"
      ]
    },
    {
      "cell_type": "code",
      "execution_count": null,
      "metadata": {
        "id": "dhsuj4MFezVC"
      },
      "outputs": [],
      "source": [
        "letters.pop(2)\n",
        "letters"
      ]
    },
    {
      "cell_type": "code",
      "execution_count": null,
      "metadata": {
        "id": "x1ZHY-pae1Ih"
      },
      "outputs": [],
      "source": [
        "letters.pop(2)\n",
        "letters"
      ]
    },
    {
      "cell_type": "markdown",
      "metadata": {
        "id": "wDhR89qxIUEh"
      },
      "source": [
        "Eliminar un elemento específico:"
      ]
    },
    {
      "cell_type": "code",
      "execution_count": null,
      "metadata": {
        "id": "G8XssVkZe8aD"
      },
      "outputs": [],
      "source": [
        "letters = ['a', 'b', 'c', 'd', 'e', 'f']"
      ]
    },
    {
      "cell_type": "code",
      "execution_count": null,
      "metadata": {
        "id": "cAyAJIeOpYrU"
      },
      "outputs": [],
      "source": [
        "letters.remove('d')\n",
        "letters"
      ]
    },
    {
      "cell_type": "code",
      "execution_count": null,
      "metadata": {
        "id": "QiILx1x_e-9M"
      },
      "outputs": [],
      "source": [
        "letters.remove('d')\n",
        "letters"
      ]
    },
    {
      "cell_type": "code",
      "execution_count": null,
      "metadata": {
        "id": "61NR3kGGfBMJ"
      },
      "outputs": [],
      "source": [
        "letters.remove('a')\n",
        "letters"
      ]
    },
    {
      "cell_type": "markdown",
      "metadata": {
        "id": "RN5dAwcv4EwQ"
      },
      "source": [
        "## Función `list()`\n",
        "Cualquier iterable puede ser convertido en una lista"
      ]
    },
    {
      "cell_type": "code",
      "execution_count": null,
      "metadata": {
        "id": "IWCOdiiJ4Iv5"
      },
      "outputs": [],
      "source": [
        "numbers = list(range(10))\n",
        "numbers"
      ]
    },
    {
      "cell_type": "markdown",
      "metadata": {
        "id": "rQiPI4Wwff1r"
      },
      "source": [
        "**Nota.** Un *iterable* es un objeto que contiene un número contable de valores. Es un objeto sobre el que se puede iterar, lo que significa que se puede recorrer todos los valores."
      ]
    },
    {
      "cell_type": "markdown",
      "metadata": {
        "id": "m7FQdEVcAMJl"
      },
      "source": [
        "Lista por multiplicación:"
      ]
    },
    {
      "cell_type": "code",
      "execution_count": null,
      "metadata": {
        "id": "lanCHsNZATqK"
      },
      "outputs": [],
      "source": [
        "num = 10\n",
        "lista_ceros = [0] * num\n",
        "lista_ceros"
      ]
    },
    {
      "cell_type": "markdown",
      "metadata": {
        "id": "D9_M_6cwUAaX"
      },
      "source": [
        "# Tuplas\n",
        "\n",
        "* Las tuplas se utilizan para almacenar múltiples elementos en una sola variable.\n",
        "* Una tupla es una colección ordenada e inmutable.\n",
        "* Los elementos de las tuplas están **ordenados, son inmutables y permiten valores duplicados**.\n",
        "* Cuando decimos que las tuplas están ordenadas, significa que los elementos tienen un orden definido, y ese orden no cambiará.\n",
        "* Las tuplas no son modificables, lo que significa que no podemos cambiar, añadir o eliminar elementos después de la creación de la tupla.\n",
        "* Como las tuplas están indexadas, pueden tener distintos elementos con el mismo valor.\n"
      ]
    },
    {
      "cell_type": "markdown",
      "metadata": {
        "id": "a0DqNz2UglV3"
      },
      "source": [
        "Tupla vacía:"
      ]
    },
    {
      "cell_type": "code",
      "execution_count": null,
      "metadata": {
        "id": "amPcH8ytggL8"
      },
      "outputs": [],
      "source": [
        "empty = ()\n",
        "empty"
      ]
    },
    {
      "cell_type": "code",
      "execution_count": null,
      "metadata": {
        "id": "JyNGZaQZgkHy"
      },
      "outputs": [],
      "source": [
        "type(empty)"
      ]
    },
    {
      "cell_type": "markdown",
      "metadata": {
        "id": "zSbnfsTNgoMa"
      },
      "source": [
        "Tupla no vacía:"
      ]
    },
    {
      "cell_type": "code",
      "execution_count": null,
      "metadata": {
        "id": "7Zqb_MU2UEJa"
      },
      "outputs": [],
      "source": [
        "tup = (1, 2, 3)\n",
        "tup"
      ]
    },
    {
      "cell_type": "markdown",
      "metadata": {
        "id": "ep3XqjhqUIS1"
      },
      "source": [
        "Crear tuplas con comas:"
      ]
    },
    {
      "cell_type": "code",
      "execution_count": null,
      "metadata": {
        "id": "Oz8dkzlzUNEe"
      },
      "outputs": [],
      "source": [
        "tup = 1, 2, 3, 4, 5\n",
        "tup"
      ]
    },
    {
      "cell_type": "markdown",
      "metadata": {
        "id": "0YKr2HU6UzgT"
      },
      "source": [
        "Tupla con un solo elemento:"
      ]
    },
    {
      "cell_type": "code",
      "execution_count": null,
      "metadata": {
        "id": "4olPH2WLg5p2"
      },
      "outputs": [],
      "source": [
        "tup = (1)\n",
        "tup"
      ]
    },
    {
      "cell_type": "code",
      "execution_count": null,
      "metadata": {
        "id": "2d8cDnSKhBq5"
      },
      "outputs": [],
      "source": [
        "type(tup)"
      ]
    },
    {
      "cell_type": "code",
      "execution_count": null,
      "metadata": {
        "id": "9ib336cLU3iu"
      },
      "outputs": [],
      "source": [
        "tup = 1,\n",
        "tup"
      ]
    },
    {
      "cell_type": "code",
      "execution_count": null,
      "metadata": {
        "id": "E_zPvbb8hHRB"
      },
      "outputs": [],
      "source": [
        "type(tup)"
      ]
    },
    {
      "cell_type": "code",
      "execution_count": null,
      "metadata": {
        "id": "Z12CZ5AjhJUv"
      },
      "outputs": [],
      "source": [
        "tup = (1,)\n",
        "tup"
      ]
    },
    {
      "cell_type": "markdown",
      "metadata": {
        "id": "a_eqCY6XTy1x"
      },
      "source": [
        "# Métodos y Operaciones para listas y tuplas"
      ]
    },
    {
      "cell_type": "markdown",
      "metadata": {
        "id": "HpNqX6QFLmdK"
      },
      "source": [
        "**Comprobar pertenencia de elementos:**"
      ]
    },
    {
      "cell_type": "code",
      "execution_count": null,
      "metadata": {
        "id": "NpIdl5Cfp7-f"
      },
      "outputs": [],
      "source": [
        "3 in (1, 2, 3, 4, 5)"
      ]
    },
    {
      "cell_type": "code",
      "execution_count": null,
      "metadata": {
        "id": "gLXaJE6EMGyb"
      },
      "outputs": [],
      "source": [
        "'a' not in [1, 2, 3, 4, 5]"
      ]
    },
    {
      "cell_type": "code",
      "execution_count": null,
      "metadata": {
        "id": "xDjQca-vi4iv"
      },
      "outputs": [],
      "source": [
        "'a' in [1, 2, 3, 4, 5]"
      ]
    },
    {
      "cell_type": "markdown",
      "metadata": {
        "id": "UNKJxMb6Mipn"
      },
      "source": [
        "## Recorrimientos"
      ]
    },
    {
      "cell_type": "code",
      "execution_count": null,
      "metadata": {
        "id": "098SVCIvsibb"
      },
      "outputs": [],
      "source": [
        "letters = 'a', 'b', 'c', 'd', 'e', 'f'\n",
        "letters[3 : 4]"
      ]
    },
    {
      "cell_type": "code",
      "execution_count": null,
      "metadata": {
        "id": "QVNJeYVtNh56"
      },
      "outputs": [],
      "source": [
        "letters[ : 4]"
      ]
    },
    {
      "cell_type": "code",
      "execution_count": null,
      "metadata": {
        "id": "9XiynpN9M9V_"
      },
      "outputs": [],
      "source": [
        "letters[-4: ]"
      ]
    },
    {
      "cell_type": "markdown",
      "metadata": {
        "id": "Lzkr-snEOEE9"
      },
      "source": [
        "**Saltos:**"
      ]
    },
    {
      "cell_type": "code",
      "execution_count": null,
      "metadata": {
        "id": "Fc3O6OhUjbtX"
      },
      "outputs": [],
      "source": [
        "letters = ('a', 'b', 'c', 'd', 'e', 'f')\n",
        "letters"
      ]
    },
    {
      "cell_type": "code",
      "execution_count": null,
      "metadata": {
        "id": "fCzpKpbSOGy-"
      },
      "outputs": [],
      "source": [
        "letters[ : : -1]"
      ]
    },
    {
      "cell_type": "code",
      "execution_count": null,
      "metadata": {
        "id": "YUBmgFvljlXz"
      },
      "outputs": [],
      "source": [
        "letters[ : : 1]"
      ]
    },
    {
      "cell_type": "code",
      "execution_count": null,
      "metadata": {
        "id": "qNgpokpWjvs0"
      },
      "outputs": [],
      "source": [
        "letters[ : : 2]"
      ]
    },
    {
      "cell_type": "code",
      "execution_count": null,
      "metadata": {
        "id": "-YlbJVAqjxnR"
      },
      "outputs": [],
      "source": [
        "letters[ : : -2]"
      ]
    },
    {
      "cell_type": "code",
      "execution_count": null,
      "metadata": {
        "id": "VJ8NV-XLjz4l"
      },
      "outputs": [],
      "source": [
        "letters[ : : 3]"
      ]
    },
    {
      "cell_type": "code",
      "execution_count": null,
      "metadata": {
        "id": "5-WXMDYRj37h"
      },
      "outputs": [],
      "source": [
        "letters[ : : -3]"
      ]
    },
    {
      "cell_type": "code",
      "execution_count": null,
      "metadata": {
        "id": "i4ncH-zzj94g"
      },
      "outputs": [],
      "source": [
        "letters"
      ]
    },
    {
      "cell_type": "code",
      "execution_count": null,
      "metadata": {
        "id": "yW-35snIj64i"
      },
      "outputs": [],
      "source": [
        "letters[1: : 2]"
      ]
    },
    {
      "cell_type": "code",
      "execution_count": null,
      "metadata": {
        "id": "PLUJ1X1Vkjzs"
      },
      "outputs": [],
      "source": [
        "letters[1: 5: 2]"
      ]
    },
    {
      "cell_type": "code",
      "execution_count": null,
      "metadata": {
        "id": "bJ-jooD6kEDw"
      },
      "outputs": [],
      "source": [
        "letters[0: : -1]"
      ]
    },
    {
      "cell_type": "code",
      "execution_count": null,
      "metadata": {
        "id": "QlM2RutYlZXs"
      },
      "outputs": [],
      "source": [
        "letters[1: : -1]"
      ]
    },
    {
      "cell_type": "code",
      "execution_count": null,
      "metadata": {
        "id": "Xp5mUNR9lbzm"
      },
      "outputs": [],
      "source": [
        "letters[2: : -1]"
      ]
    },
    {
      "cell_type": "code",
      "execution_count": null,
      "metadata": {
        "id": "vwJ8ObnXleWB"
      },
      "outputs": [],
      "source": [
        "letters[: 0: -1]"
      ]
    },
    {
      "cell_type": "code",
      "execution_count": null,
      "metadata": {
        "id": "7KOxWOt5lilD"
      },
      "outputs": [],
      "source": [
        "letters[: 1: -1]"
      ]
    },
    {
      "cell_type": "code",
      "execution_count": null,
      "metadata": {
        "id": "Gs-knLkdlp4n"
      },
      "outputs": [],
      "source": [
        "letters[: 2: -1]"
      ]
    },
    {
      "cell_type": "markdown",
      "metadata": {
        "id": "IR6wtY_oJlSv"
      },
      "source": [
        "**Listas, tuplas y cadena de caracteres**"
      ]
    },
    {
      "cell_type": "code",
      "execution_count": null,
      "metadata": {
        "id": "81hFjYCSmNqM"
      },
      "outputs": [],
      "source": [
        "Lista = [1, 2, 3]"
      ]
    },
    {
      "cell_type": "markdown",
      "metadata": {
        "id": "LJ7sHBWvnDRS"
      },
      "source": [
        "String a Lista"
      ]
    },
    {
      "cell_type": "code",
      "execution_count": null,
      "metadata": {
        "id": "Un35cmhynAxD"
      },
      "outputs": [],
      "source": [
        "list('Hola Grupo')"
      ]
    },
    {
      "cell_type": "markdown",
      "metadata": {
        "id": "2Qso0S3RnlYz"
      },
      "source": [
        "String a tupla"
      ]
    },
    {
      "cell_type": "code",
      "execution_count": null,
      "metadata": {
        "id": "FsBqPrl0nF3T"
      },
      "outputs": [],
      "source": [
        "tuple('Hola Grupo')"
      ]
    },
    {
      "cell_type": "markdown",
      "metadata": {
        "id": "GWZhTWptnxrM"
      },
      "source": [
        "Tupla a lista:"
      ]
    },
    {
      "cell_type": "code",
      "execution_count": null,
      "metadata": {
        "id": "4exkgKN-nqxa"
      },
      "outputs": [],
      "source": [
        "tup = (1, 2, 3, 4, 5)\n",
        "list(tup)"
      ]
    },
    {
      "cell_type": "code",
      "execution_count": null,
      "metadata": {
        "id": "4tlXa1_xnz9M"
      },
      "outputs": [],
      "source": [
        "lista = [1, 2, 3]\n",
        "tuple(lista)"
      ]
    },
    {
      "cell_type": "markdown",
      "metadata": {
        "id": "SxpzGoM_Z_RU"
      },
      "source": [
        "# Diccionarios\n",
        "\n",
        "* Los diccionarios se utilizan para almacenar valores de datos en pares `clave: valor`.\n",
        "* Los diccionarios son modificables, lo que significa que podemos cambiar, añadir o eliminar elementos una vez creado el diccionario.\n",
        "* Los elementos del diccionario se presentan en pares `clave: valor`, y se puede hacer referencia a ellos utilizando el nombre de la clave.\n",
        "* Los diccionarios no pueden tener dos elementos con la misma clave.\n",
        "* Tienen la ventaja de que es muy rápido consultar el valor de una clave ya que no se hace una busqueda lineal sobre todo el diccionario.\n",
        "\n",
        "**Los diccionarios son como funciones $\\{(x_1,f(x_1)),(x_2,f(x_2))...\\}$ presentados en la forma $\\{x_1:f(x_1),x_2:f(x_2),...\\}$**\n"
      ]
    },
    {
      "cell_type": "markdown",
      "metadata": {
        "id": "l9nWQuW1oLCE"
      },
      "source": [
        "Diccionario vacío:"
      ]
    },
    {
      "cell_type": "code",
      "execution_count": null,
      "metadata": {
        "id": "45C_FS-eoR-3"
      },
      "outputs": [],
      "source": [
        "dictionary = {}\n",
        "dictionary"
      ]
    },
    {
      "cell_type": "markdown",
      "metadata": {
        "id": "uwNpFQFGo0C_"
      },
      "source": [
        "Diccionario no vacío:"
      ]
    },
    {
      "cell_type": "code",
      "execution_count": null,
      "metadata": {
        "id": "xkdPoHJkqX1D"
      },
      "outputs": [],
      "source": [
        "dictionary = {'key-1': 'value-1', 'key-2': 'value-2'}\n",
        "dictionary"
      ]
    },
    {
      "cell_type": "code",
      "execution_count": null,
      "metadata": {
        "id": "VWYvp8peo5ok"
      },
      "outputs": [],
      "source": [
        "key_values = [['key-1','value-1'], ['key-2', 'value-2']]\n",
        "dictionary = dict(key_values)\n",
        "dictionary"
      ]
    },
    {
      "cell_type": "markdown",
      "metadata": {
        "id": "vb9aP6o5pv_B"
      },
      "source": [
        "Acceder a un elemento:"
      ]
    },
    {
      "cell_type": "code",
      "execution_count": null,
      "metadata": {
        "id": "3-jz1H8Apzgm"
      },
      "outputs": [],
      "source": [
        "dictionary['key-2']"
      ]
    },
    {
      "cell_type": "code",
      "execution_count": null,
      "metadata": {
        "id": "YSSr9Ed9qwSY"
      },
      "outputs": [],
      "source": [
        "dictionary['key-1']"
      ]
    },
    {
      "cell_type": "markdown",
      "metadata": {
        "id": "UBSLRWEeqE-W"
      },
      "source": [
        "Agregar clave y valor:"
      ]
    },
    {
      "cell_type": "code",
      "execution_count": null,
      "metadata": {
        "id": "J98co3mWqJ5I"
      },
      "outputs": [],
      "source": [
        "dictionary['key-3'] = 'value-3'\n",
        "dictionary"
      ]
    },
    {
      "cell_type": "markdown",
      "metadata": {
        "id": "xmHWK2hHq7c_"
      },
      "source": [
        "Actualizar valor de una clave:"
      ]
    },
    {
      "cell_type": "code",
      "execution_count": null,
      "metadata": {
        "id": "VrV2r-vUq-JV"
      },
      "outputs": [],
      "source": [
        "dictionary['key-2'] = 'new-value-2'\n",
        "dictionary['key-2']"
      ]
    },
    {
      "cell_type": "markdown",
      "metadata": {
        "id": "_ot60Snlra6K"
      },
      "source": [
        "Conocer las llaves:"
      ]
    },
    {
      "cell_type": "code",
      "execution_count": null,
      "metadata": {
        "id": "Lv726tMhrYnh"
      },
      "outputs": [],
      "source": [
        "list(dictionary.keys())"
      ]
    },
    {
      "cell_type": "markdown",
      "metadata": {
        "id": "WGJyKhKgrf11"
      },
      "source": [
        "Conocer los valores:"
      ]
    },
    {
      "cell_type": "code",
      "execution_count": null,
      "metadata": {
        "id": "F7F-fNMMrhT5"
      },
      "outputs": [],
      "source": [
        "dictionary.values()"
      ]
    },
    {
      "cell_type": "markdown",
      "metadata": {
        "id": "tCpdFg8JrqKM"
      },
      "source": [
        "Conocer claves y valores:"
      ]
    },
    {
      "cell_type": "code",
      "execution_count": null,
      "metadata": {
        "id": "0dZRJamArlLg"
      },
      "outputs": [],
      "source": [
        "dictionary.items()"
      ]
    },
    {
      "cell_type": "markdown",
      "metadata": {
        "id": "9fqITS30sJC6"
      },
      "source": [
        "Verificar pertenencia de una clave:"
      ]
    },
    {
      "cell_type": "code",
      "execution_count": null,
      "metadata": {
        "id": "c1XdFLXNsWVq"
      },
      "outputs": [],
      "source": [
        "'key-5' in dictionary"
      ]
    },
    {
      "cell_type": "code",
      "execution_count": null,
      "metadata": {
        "id": "lhics7nMrddp"
      },
      "outputs": [],
      "source": [
        "'key-1' in dictionary"
      ]
    },
    {
      "cell_type": "markdown",
      "metadata": {
        "id": "G4Z2Pk3VsyUJ"
      },
      "source": [
        "Método `get()`:"
      ]
    },
    {
      "cell_type": "code",
      "execution_count": null,
      "metadata": {
        "id": "FnHIgV8_s1eQ"
      },
      "outputs": [],
      "source": [
        "dictionary.get(\"key-1\", \"Clave no existente\")"
      ]
    },
    {
      "cell_type": "code",
      "execution_count": null,
      "metadata": {
        "id": "AOzZAUqZr-ZY"
      },
      "outputs": [],
      "source": [
        "dictionary.get(\"key-5\", \"Clave no existente\")"
      ]
    },
    {
      "cell_type": "markdown",
      "metadata": {
        "id": "YmWqelbJthVB"
      },
      "source": [
        "Remover una clave (y su valor):"
      ]
    },
    {
      "cell_type": "code",
      "execution_count": null,
      "metadata": {
        "id": "tOLuWnHEtkjT"
      },
      "outputs": [],
      "source": [
        "del(dictionary['key-1'])\n",
        "dictionary"
      ]
    },
    {
      "cell_type": "markdown",
      "metadata": {
        "id": "rnKNsxuZinvy"
      },
      "source": [
        "Listas como claves? No, porque las listas son mutables:"
      ]
    },
    {
      "cell_type": "code",
      "execution_count": null,
      "metadata": {
        "id": "16t9F7PPipo4"
      },
      "outputs": [],
      "source": [
        "items = ['item-1', 'item-2', 'item-3']\n",
        "map = {}\n",
        "map[items] = \"some-value\""
      ]
    },
    {
      "cell_type": "markdown",
      "metadata": {
        "id": "_9vXIamIjLER"
      },
      "source": [
        "Tuplas como claves? Sí, porque son inmutables:"
      ]
    },
    {
      "cell_type": "code",
      "execution_count": null,
      "metadata": {
        "id": "K2pFCFu3jNRM"
      },
      "outputs": [],
      "source": [
        "items = 'item-1', 'item-2', 'item-3'\n",
        "map = {}\n",
        "map[items] = \"some-value\"\n",
        "\n",
        "map"
      ]
    }
  ],
  "metadata": {
    "colab": {
      "collapsed_sections": [
        "hhCXbwlN8gvo",
        "-bD0y983Sstz",
        "aCBZvOZn3V6D",
        "D9_M_6cwUAaX",
        "a_eqCY6XTy1x",
        "UNKJxMb6Mipn",
        "SxpzGoM_Z_RU"
      ],
      "provenance": [],
      "include_colab_link": true
    },
    "kernelspec": {
      "display_name": "Python 3",
      "language": "python",
      "name": "python3"
    },
    "language_info": {
      "codemirror_mode": {
        "name": "ipython",
        "version": 3
      },
      "file_extension": ".py",
      "mimetype": "text/x-python",
      "name": "python",
      "nbconvert_exporter": "python",
      "pygments_lexer": "ipython3",
      "version": "3.8.10"
    }
  },
  "nbformat": 4,
  "nbformat_minor": 0
}