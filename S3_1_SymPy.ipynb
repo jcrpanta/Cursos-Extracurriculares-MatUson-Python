{
  "nbformat": 4,
  "nbformat_minor": 0,
  "metadata": {
    "colab": {
      "provenance": [],
      "include_colab_link": true
    },
    "kernelspec": {
      "name": "python3",
      "display_name": "Python 3"
    }
  },
  "cells": [
    {
      "cell_type": "markdown",
      "metadata": {
        "id": "view-in-github",
        "colab_type": "text"
      },
      "source": [
        "<a href=\"https://colab.research.google.com/github/jcrpanta/Cursos-Extracurriculares-MatUson-Python/blob/main/S3_1_SymPy.ipynb\" target=\"_parent\"><img src=\"https://colab.research.google.com/assets/colab-badge.svg\" alt=\"Open In Colab\"/></a>"
      ]
    },
    {
      "cell_type": "markdown",
      "metadata": {
        "id": "lbER9rKS6fcQ"
      },
      "source": [
        "El módulo [`SymPy`](https://docs.sympy.org/latest/index.html) es una librería de Python que nos permite realizar cálculo simbólico. Como siempre, para poder acceder a ella y utilizar sus funciones, lo primero que debemos hacer es importarla.\n",
        "\n",
        "*   [https://www.sympy.org/en/index.html](https://www.sympy.org/en/index.html)\n",
        "*   [https://scipy-lectures.org/packages/sympy.html](https://scipy-lectures.org/packages/sympy.html)\n",
        "\n",
        "**Maneras en las que podemos importar `SymPy`:**  \n",
        "\n",
        "\n",
        "1.  `import sympy`\n",
        "2. `import sympy as sym`     (*renombrar SymPy como sym*)\n",
        "3. `from sympy import *`     (*importar todas las funciones de SymPy. Aunque no es muy recomendable importar de esta manera*)\n",
        "4. `from sympy import 'nombre de funciones separadas por comas'`     (*importar solo algunas funciones*)"
      ]
    },
    {
      "cell_type": "markdown",
      "source": [
        "Observación:"
      ],
      "metadata": {
        "id": "EoViqD-LBS62"
      }
    },
    {
      "cell_type": "code",
      "source": [
        "x*x   # ¿Cuál es el output?"
      ],
      "metadata": {
        "id": "GEWnQihuBSGO"
      },
      "execution_count": null,
      "outputs": []
    },
    {
      "cell_type": "markdown",
      "source": [
        "El error se produce porque no hemos definido la variable ``x``. Podríamos definirla asignándole un valor numérico:\n",
        "\n"
      ],
      "metadata": {
        "id": "CNJg7KfxBwmm"
      }
    },
    {
      "cell_type": "code",
      "source": [
        "x=3"
      ],
      "metadata": {
        "id": "E7BPtNNOBukb"
      },
      "execution_count": null,
      "outputs": []
    },
    {
      "cell_type": "code",
      "source": [
        "x*x"
      ],
      "metadata": {
        "id": "fiMm_JX7FB91"
      },
      "execution_count": null,
      "outputs": []
    },
    {
      "cell_type": "markdown",
      "source": [
        "¡Pero esto no es lo que se quiere!"
      ],
      "metadata": {
        "id": "efhN7ezgFFjv"
      }
    },
    {
      "cell_type": "code",
      "metadata": {
        "id": "rLglhHq46ACK"
      },
      "source": [
        "# Importar el módulo SymPy\n",
        "import sympy as sym"
      ],
      "execution_count": null,
      "outputs": []
    },
    {
      "cell_type": "markdown",
      "metadata": {
        "id": "D_YEGXqA-a3x"
      },
      "source": [
        "Una vez que hemos importado este módulo, lo siguiente es definir los __símbolos__ o __variables__ que usaremos. Por ejemplo, si vamos a realizar operaciones con la variable `x` debemos definirla de la siguiente manera:"
      ]
    },
    {
      "cell_type": "code",
      "metadata": {
        "id": "_W07twss_Edl"
      },
      "source": [
        "x = sym.symbols('x')"
      ],
      "execution_count": null,
      "outputs": []
    },
    {
      "cell_type": "markdown",
      "source": [
        "Ya con esto podemos calcular el cuadrado de ``x`` de manera simbólica:"
      ],
      "metadata": {
        "id": "yv-Bm-HYFjUO"
      }
    },
    {
      "cell_type": "code",
      "source": [
        "x * x"
      ],
      "metadata": {
        "id": "JkCXAyicFn5L"
      },
      "execution_count": null,
      "outputs": []
    },
    {
      "cell_type": "markdown",
      "metadata": {
        "id": "GWMxxI51_Mva"
      },
      "source": [
        "Si queremos usar las variables `x` e `y` las definiremos como:"
      ]
    },
    {
      "cell_type": "code",
      "metadata": {
        "id": "_8ALdSSu_UdB"
      },
      "source": [
        "x, y = sym.symbols('x, y')"
      ],
      "execution_count": null,
      "outputs": []
    },
    {
      "cell_type": "markdown",
      "metadata": {
        "id": "ZUuphsK0Vyb5"
      },
      "source": [
        "**OBSERVACIÓN:**\n",
        "\n",
        "* Hay que advertir la diferencia entre designar el nombre de la variable en la que almacenamos una variable simbólica y el caracter usada para ésta."
      ]
    },
    {
      "cell_type": "markdown",
      "metadata": {
        "id": "u4plWTOqV2xg"
      },
      "source": [
        "Por ejemplo, podemos almanecaner la variagle simbólica `x` en una variable cuyo nombre contenga caracteres diferentes:"
      ]
    },
    {
      "cell_type": "code",
      "metadata": {
        "id": "pRykRjaVVyAO"
      },
      "source": [
        "python = sym.symbols('x')"
      ],
      "execution_count": null,
      "outputs": []
    },
    {
      "cell_type": "code",
      "metadata": {
        "id": "O_H6BuP9Wy64"
      },
      "source": [
        "python"
      ],
      "execution_count": null,
      "outputs": []
    },
    {
      "cell_type": "markdown",
      "metadata": {
        "id": "zgvSvqtRWmdN"
      },
      "source": [
        "Luego, operar según se requiera:"
      ]
    },
    {
      "cell_type": "code",
      "metadata": {
        "id": "Ak9CqHDsWwfX"
      },
      "source": [
        "python * python"
      ],
      "execution_count": null,
      "outputs": []
    },
    {
      "cell_type": "code",
      "metadata": {
        "id": "jY_aEWWUW2N5"
      },
      "source": [
        "python ** python"
      ],
      "execution_count": null,
      "outputs": []
    },
    {
      "cell_type": "markdown",
      "metadata": {
        "id": "iCosKRyAW8qL"
      },
      "source": [
        "Podemos almanecaner la variable simbólica `pythan` en una variable cuyo nombre sea `x`:"
      ]
    },
    {
      "cell_type": "code",
      "metadata": {
        "id": "Z7ZdlZdEW8Of"
      },
      "source": [
        "x = sym.symbols('python')"
      ],
      "execution_count": null,
      "outputs": []
    },
    {
      "cell_type": "code",
      "metadata": {
        "id": "lz4FWmgpXHw_"
      },
      "source": [
        "x"
      ],
      "execution_count": null,
      "outputs": []
    },
    {
      "cell_type": "markdown",
      "metadata": {
        "id": "W4zmS0WPXJ_P"
      },
      "source": [
        "Luego, operar según se requiera:"
      ]
    },
    {
      "cell_type": "code",
      "metadata": {
        "id": "-f3vastoXKhv"
      },
      "source": [
        "x * x"
      ],
      "execution_count": null,
      "outputs": []
    },
    {
      "cell_type": "code",
      "metadata": {
        "id": "Llv15_OoXMTH"
      },
      "source": [
        "x ** x"
      ],
      "execution_count": null,
      "outputs": []
    },
    {
      "cell_type": "markdown",
      "metadata": {
        "id": "UBav1VlmFKlV"
      },
      "source": [
        "Ya que tenemos definidos nuestros _símbolos_, podemos empezar a realizar [_cálculo simbólico_](https://docs.sympy.org/latest/tutorial/intro.html)."
      ]
    },
    {
      "cell_type": "markdown",
      "source": [
        "**Ejemplos:**"
      ],
      "metadata": {
        "id": "WDy6M71HYCSq"
      }
    },
    {
      "cell_type": "code",
      "source": [
        "sym.Rational(1,2)"
      ],
      "metadata": {
        "id": "Avsy6XSsYHEF"
      },
      "execution_count": null,
      "outputs": []
    },
    {
      "cell_type": "code",
      "source": [
        "sym.Rational(0.5)"
      ],
      "metadata": {
        "id": "kKgp4Tb3Yakp"
      },
      "execution_count": null,
      "outputs": []
    },
    {
      "cell_type": "code",
      "source": [
        "sym.Rational(1,2) + sym.Rational(2,3)"
      ],
      "metadata": {
        "id": "KtuofS2IYhuv"
      },
      "execution_count": null,
      "outputs": []
    },
    {
      "cell_type": "code",
      "source": [
        "sym.Rational(1,2) * sym.pi"
      ],
      "metadata": {
        "id": "PIlWPyA_YlPI"
      },
      "execution_count": null,
      "outputs": []
    },
    {
      "cell_type": "code",
      "source": [
        "sym.sqrt(sym.pi)"
      ],
      "metadata": {
        "id": "qaFscqEhYo5m"
      },
      "execution_count": null,
      "outputs": []
    },
    {
      "cell_type": "code",
      "source": [
        "sym.cos(sym.pi / 4)"
      ],
      "metadata": {
        "id": "zi0pL8HhYzcm"
      },
      "execution_count": null,
      "outputs": []
    },
    {
      "cell_type": "markdown",
      "source": [
        "# Función `sympify`"
      ],
      "metadata": {
        "id": "9A__YWCDZBDq"
      }
    },
    {
      "cell_type": "markdown",
      "source": [
        "Una de las funciones más importantes, y útiles, con la que cuenta SymPy es la función `sympify` ([https://docs.sympy.org/latest/modules/core.html](https://docs.sympy.org/latest/modules/core.html)). Según su documentación, esta función **convierte una expresión arbitraria a un tipo que puede ser utilizado dentro de SymPy**. En otras palabras, convierte una expresión adecuada a una variable simbólica. Los tipos de expresiones o variables que pueden ser convertidos son:"
      ],
      "metadata": {
        "id": "PeJYIh2TZYU0"
      }
    },
    {
      "cell_type": "markdown",
      "source": [
        "![image.png](data:image/png;base64,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)"
      ],
      "metadata": {
        "id": "DveArV1HaXDj"
      }
    },
    {
      "cell_type": "markdown",
      "source": [
        "¡Notemos que en particular, podemos convertir cadenas de caracteres! Esto es de gran utilidad."
      ],
      "metadata": {
        "id": "tQe7_NKPayZ7"
      }
    },
    {
      "cell_type": "code",
      "source": [
        "sym.sympify('x')    # sintaxis"
      ],
      "metadata": {
        "id": "_yjIhewRbAtP"
      },
      "execution_count": null,
      "outputs": []
    },
    {
      "cell_type": "code",
      "source": [
        "type('x')"
      ],
      "metadata": {
        "id": "xy9Jyt0ZbI64"
      },
      "execution_count": null,
      "outputs": []
    },
    {
      "cell_type": "code",
      "source": [
        "type(sym.sympify('x'))"
      ],
      "metadata": {
        "id": "xAXUQJ89bKoH"
      },
      "execution_count": null,
      "outputs": []
    },
    {
      "cell_type": "markdown",
      "source": [
        "---\n",
        "Una manera de explotar este tipo de conversiones es la siguiente.\n",
        "\n",
        "---\n",
        "\n"
      ],
      "metadata": {
        "id": "a-F204huaj0C"
      }
    },
    {
      "cell_type": "markdown",
      "source": [
        "**(1)** Declaramos una variable simbólica $x$:"
      ],
      "metadata": {
        "id": "mg5IPKltdmRi"
      }
    },
    {
      "cell_type": "code",
      "source": [
        "x = sym.symbols('x')"
      ],
      "metadata": {
        "id": "RHaFtjLoZARt"
      },
      "execution_count": null,
      "outputs": []
    },
    {
      "cell_type": "markdown",
      "source": [
        "**(2)** Declaramos una cadena de caracteres que contenga una expresión algebraica dependiente de $x$"
      ],
      "metadata": {
        "id": "USjgDQSicWax"
      }
    },
    {
      "cell_type": "code",
      "source": [
        "expresion = 'x**2 + x + 1'"
      ],
      "metadata": {
        "id": "kBCYl2-3c8yX"
      },
      "execution_count": null,
      "outputs": []
    },
    {
      "cell_type": "markdown",
      "source": [
        "**(3)** Convertimos la cadena de caracteres a una variable simbólica"
      ],
      "metadata": {
        "id": "Y0ljH1OtdPbU"
      }
    },
    {
      "cell_type": "code",
      "source": [
        "sym_expresion = sym.sympify(expresion)\n",
        "sym_expresion"
      ],
      "metadata": {
        "id": "ghnCqJGxcwRs"
      },
      "execution_count": null,
      "outputs": []
    },
    {
      "cell_type": "markdown",
      "source": [
        "**¡Ahora ya podemos operar/manipular la expresión anterior según necesitemos, como si de una expresión algebraica \"escrita a mano\" se tratara!**"
      ],
      "metadata": {
        "id": "ntDv-TXUvvr1"
      }
    },
    {
      "cell_type": "markdown",
      "source": [
        "## Evaluar una función de variable real"
      ],
      "metadata": {
        "id": "VvzwFhMWz5lV"
      }
    },
    {
      "cell_type": "markdown",
      "source": [
        "Podemos evaluar la expresión anterior `sym_expresion` en algún valor concreto de $x$ ([https://docs.sympy.org/latest/tutorials/intro-tutorial/basic_operations.html](https://docs.sympy.org/latest/tutorials/intro-tutorial/basic_operations.html)). Para esto podemos utilizar, por ejemplo, la función de SymPy `subs`:"
      ],
      "metadata": {
        "id": "7zCSme5iwAP9"
      }
    },
    {
      "cell_type": "code",
      "source": [
        "sym_expresion.subs(x, 0)"
      ],
      "metadata": {
        "id": "kjKOS9gCwOVl"
      },
      "execution_count": null,
      "outputs": []
    },
    {
      "cell_type": "code",
      "source": [
        "sym_expresion.subs(x, 1)"
      ],
      "metadata": {
        "id": "ZGflc9SKw8Mp"
      },
      "execution_count": null,
      "outputs": []
    },
    {
      "cell_type": "markdown",
      "source": [
        "Notemos que lo anterior nos sugiere que podemos definir una función de Python que evalúe cualquier función (reconocible por SymPy) de variable real.\n",
        "\n",
        "En efecto, para lo anterior, primero debemos fijar el nombre/caracter de la variable independiente, digamos $x$:"
      ],
      "metadata": {
        "id": "PnmE31x5xIGD"
      }
    },
    {
      "cell_type": "code",
      "source": [
        "def evaluar(funcion, punto):\n",
        "    '''\n",
        "    Evalua una función de variable real en un punto dado.\n",
        "\n",
        "    Argumentos:\n",
        "\n",
        "    * funcion: una cadena de caracteres que emule una función de variable real con x como variable independiente\n",
        "    * punto: una variable numérica (puede ser de SymPy)\n",
        "\n",
        "    '''\n",
        "    x = sym.symbols('x')\n",
        "    funcion = sym.sympify(funcion)\n",
        "    return funcion.subs(x, punto)"
      ],
      "metadata": {
        "id": "z8kLIP6hxjjd"
      },
      "execution_count": null,
      "outputs": []
    },
    {
      "cell_type": "code",
      "source": [
        "evaluar(sym_expresion, 0)"
      ],
      "metadata": {
        "id": "OQkiVuQfzdEY"
      },
      "execution_count": null,
      "outputs": []
    },
    {
      "cell_type": "code",
      "source": [
        "evaluar(sym_expresion, sym.pi)"
      ],
      "metadata": {
        "id": "l9g3GNm9znRD"
      },
      "execution_count": null,
      "outputs": []
    },
    {
      "cell_type": "markdown",
      "source": [
        "Prestemos atención en el siguiente caso:"
      ],
      "metadata": {
        "id": "qTCejR5a0d_3"
      }
    },
    {
      "cell_type": "code",
      "source": [
        "evaluar('a*x**2 + b*x + c', 1)"
      ],
      "metadata": {
        "id": "eX5Y9ABe0dh0"
      },
      "execution_count": null,
      "outputs": []
    },
    {
      "cell_type": "code",
      "source": [
        "evaluar('a*x**2 + b*x + c', sym.sqrt(2))"
      ],
      "metadata": {
        "id": "eMV6yS430nym"
      },
      "execution_count": null,
      "outputs": []
    },
    {
      "cell_type": "markdown",
      "source": [
        "**Ejercicio.** Dé una explicación del output de la celda anterior."
      ],
      "metadata": {
        "id": "lr9TTcSV0u_w"
      }
    },
    {
      "cell_type": "markdown",
      "source": [
        "Adicionalmente, es importante mencionar que además de evaluar numericamente podemos sustituir expresiones simbólicas:"
      ],
      "metadata": {
        "id": "BhMShUoHbZOT"
      }
    },
    {
      "cell_type": "code",
      "source": [
        "sym_expresion.subs(x, 'y**2')"
      ],
      "metadata": {
        "id": "2g-QzPivbXR1"
      },
      "execution_count": null,
      "outputs": []
    },
    {
      "cell_type": "code",
      "source": [
        "sym_expresion.subs(x, 'sin(z)')"
      ],
      "metadata": {
        "id": "oGRen3Nwb4cS"
      },
      "execution_count": null,
      "outputs": []
    },
    {
      "cell_type": "markdown",
      "source": [
        "**Nota.** Podemos definir y evaluar funciones que dependan de dos o más variables:"
      ],
      "metadata": {
        "id": "ncqpfyUacXOK"
      }
    },
    {
      "cell_type": "code",
      "source": [
        "x, y = sym.symbols('x y')\n",
        "x, y"
      ],
      "metadata": {
        "id": "p_oM-EeOcpLq"
      },
      "execution_count": null,
      "outputs": []
    },
    {
      "cell_type": "code",
      "source": [
        "F_xy = sym.sympify('x + y**2')\n",
        "F_xy"
      ],
      "metadata": {
        "id": "lBSmiQbNcumA"
      },
      "execution_count": null,
      "outputs": []
    },
    {
      "cell_type": "code",
      "source": [
        "F_xy.subs({x: -1, y: 1})"
      ],
      "metadata": {
        "id": "As-I1l6Hc5w9"
      },
      "execution_count": null,
      "outputs": []
    },
    {
      "cell_type": "code",
      "source": [
        "F_xy.subs({x: sym.pi, y: sym.sqrt(2)})"
      ],
      "metadata": {
        "id": "mysUNv9tdFdj"
      },
      "execution_count": null,
      "outputs": []
    },
    {
      "cell_type": "markdown",
      "source": [
        "## Derivar una función de variable real"
      ],
      "metadata": {
        "id": "6yJlpBtKdLoq"
      }
    },
    {
      "cell_type": "markdown",
      "source": [
        "SymPy tiene integrado funciones que permiten realizar, en particular, operaciones del cálculo diferencial e integral.\n",
        "\n",
        "Por ejemplo, para calcular derivadas respecto a alguna variable podemos usar la función `diff`:"
      ],
      "metadata": {
        "id": "K-pMKbnYdOTx"
      }
    },
    {
      "cell_type": "code",
      "source": [
        "x = sym.symbols('x')\n",
        "\n",
        "sym.sin(x)"
      ],
      "metadata": {
        "id": "YRnKxWP3eDuV"
      },
      "execution_count": null,
      "outputs": []
    },
    {
      "cell_type": "code",
      "source": [
        "sym.diff(sym.sin(x), x)"
      ],
      "metadata": {
        "id": "NHWRVlnWeMde"
      },
      "execution_count": null,
      "outputs": []
    },
    {
      "cell_type": "markdown",
      "source": [
        "Así, auxiliándonos de la función `sympify`, podemos definir una función de Python que retorne la derivada de una función de variable real $f=f(x)$:"
      ],
      "metadata": {
        "id": "zqicAeLIeX8-"
      }
    },
    {
      "cell_type": "code",
      "source": [
        "def derivada(funcion):\n",
        "    x = sym.symbols('x')\n",
        "    funcion = sym.sympify(funcion)\n",
        "    return sym.diff(funcion, x)"
      ],
      "metadata": {
        "id": "_nEoaQbzeg2K"
      },
      "execution_count": null,
      "outputs": []
    },
    {
      "cell_type": "code",
      "source": [
        "ff = 'x**3 - x**2 + x - c'\n",
        "ff"
      ],
      "metadata": {
        "id": "6wiQf_tfetqE"
      },
      "execution_count": null,
      "outputs": []
    },
    {
      "cell_type": "code",
      "source": [
        "derivada(ff)"
      ],
      "metadata": {
        "id": "Ijp-aP-Pe8m4"
      },
      "execution_count": null,
      "outputs": []
    },
    {
      "cell_type": "markdown",
      "source": [
        "**Ejercicio.** ¿Cuál es el output de la siguiente celda?"
      ],
      "metadata": {
        "id": "0AEYnyoie_l_"
      }
    },
    {
      "cell_type": "code",
      "source": [
        "derivada('a*x**3/3 + b*x**2/2 + c*x + d')"
      ],
      "metadata": {
        "id": "-PUhIw0hfLlb"
      },
      "execution_count": null,
      "outputs": []
    },
    {
      "cell_type": "markdown",
      "source": [
        "## Integrar una función de variable real"
      ],
      "metadata": {
        "id": "s3mN4fBXfXA-"
      }
    },
    {
      "cell_type": "markdown",
      "source": [
        "De manera análoga al cálculo de derivadas, podemos definir una función para calcular la antiderivada de una función de variable real $f=f(x)$:"
      ],
      "metadata": {
        "id": "J0xb7JHUfaO9"
      }
    },
    {
      "cell_type": "code",
      "source": [
        "def antiderivada(funcion):\n",
        "    x = sym.symbols('x')\n",
        "    funcion = sym.sympify(funcion)\n",
        "    return sym.integrate(funcion, x)"
      ],
      "metadata": {
        "id": "wrS7c0Dhfn3I"
      },
      "execution_count": null,
      "outputs": []
    },
    {
      "cell_type": "code",
      "source": [
        "antiderivada('3*x**2')"
      ],
      "metadata": {
        "id": "GcLaqhCrfyqz"
      },
      "execution_count": null,
      "outputs": []
    },
    {
      "cell_type": "code",
      "source": [
        "antiderivada('cos(x) - x*exp(x**2) + sqrt(x)')"
      ],
      "metadata": {
        "id": "hlfVCX1Tf5WL"
      },
      "execution_count": null,
      "outputs": []
    },
    {
      "cell_type": "markdown",
      "source": [
        "También podemos calcular una integral (definida) sobre un intervalo $[a,b]$:"
      ],
      "metadata": {
        "id": "DLy-iE-KgHd1"
      }
    },
    {
      "cell_type": "code",
      "source": [
        "def integral(funcion, lim_inf, lim_sup):\n",
        "    x = sym.symbols('x')\n",
        "    funcion = sym.sympify(funcion)\n",
        "    return sym.integrate(funcion, (x, lim_inf, lim_sup))"
      ],
      "metadata": {
        "id": "RUp3jeTQgVEv"
      },
      "execution_count": null,
      "outputs": []
    },
    {
      "cell_type": "markdown",
      "source": [
        "* Ejemplos: **texto en negrita**"
      ],
      "metadata": {
        "id": "E6sch5wfgnu-"
      }
    },
    {
      "cell_type": "code",
      "source": [
        "integral('sin(x)', 0, sym.pi)"
      ],
      "metadata": {
        "id": "gLVFQvvdgnI4"
      },
      "execution_count": null,
      "outputs": []
    },
    {
      "cell_type": "code",
      "source": [
        "integral('sin(x)', 0, 2*sym.pi)"
      ],
      "metadata": {
        "id": "hmpxAtKtgzto"
      },
      "execution_count": null,
      "outputs": []
    },
    {
      "cell_type": "markdown",
      "source": [
        "# Método de Newton-Raphson"
      ],
      "metadata": {
        "id": "Cu4EuNVKv3J7"
      }
    },
    {
      "cell_type": "markdown",
      "source": [
        "![image.png](data:image/png;base64,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)"
      ],
      "metadata": {
        "id": "5t03WWh0ycfQ"
      }
    },
    {
      "cell_type": "markdown",
      "source": [
        "Sea $f=f(x)$ una función derivable (al menos dos veces) de variable real. Entonces:"
      ],
      "metadata": {
        "id": "xTv96f7QRYRh"
      }
    },
    {
      "cell_type": "markdown",
      "source": [
        "![image.png](data:image/png;base64,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)"
      ],
      "metadata": {
        "id": "5cf_t6ckzATQ"
      }
    },
    {
      "cell_type": "markdown",
      "source": [
        "**Nota.** De ser posible, primero graficamos."
      ],
      "metadata": {
        "id": "FvaCAF0wzarv"
      }
    },
    {
      "cell_type": "markdown",
      "source": [
        "## Código_Gráfica"
      ],
      "metadata": {
        "id": "mrvg5qKX0jNy"
      }
    },
    {
      "cell_type": "code",
      "source": [
        "from sympy import symbols\n",
        "from sympy.plotting import plot\n",
        "\n",
        "def graficar_funcion(funcion, aa, bb):\n",
        "    if aa - bb >= 0:\n",
        "        return \"Debe ser a < b\"\n",
        "    xx = symbols('x')\n",
        "    p1 = plot(funcion, (xx, aa, bb))"
      ],
      "metadata": {
        "id": "PxP_nwy9v2yN"
      },
      "execution_count": null,
      "outputs": []
    },
    {
      "cell_type": "markdown",
      "source": [
        "## Gráfica\n",
        "\n",
        "(Para graficar, primero ejecutamos la celda de la sección \"Código_Gráfica\")"
      ],
      "metadata": {
        "id": "DL8GAJZe138S"
      }
    },
    {
      "cell_type": "markdown",
      "source": [
        "**Paso 1.** Escribir entre comillas (\" \") la función $f=f(x)$ a graficar:\n"
      ],
      "metadata": {
        "id": "WVtjdA0T18r9"
      }
    },
    {
      "cell_type": "code",
      "source": [
        "funcion = \"exp(-x) - x\""
      ],
      "metadata": {
        "id": "BbPC-Y4P2YSy"
      },
      "execution_count": null,
      "outputs": []
    },
    {
      "cell_type": "markdown",
      "source": [
        "**Paso 2.** Ingresar los extremos del intervalo $[a,b]$ en el que se graficará la función $f$:"
      ],
      "metadata": {
        "id": "rbY3oBc-2hlR"
      }
    },
    {
      "cell_type": "code",
      "source": [
        "aa = 0\n",
        "bb = 2"
      ],
      "metadata": {
        "id": "jtPHazVA2g8X"
      },
      "execution_count": null,
      "outputs": []
    },
    {
      "cell_type": "markdown",
      "source": [
        "**Paso 3.** Ejecutar la función `graficar_funcion`:"
      ],
      "metadata": {
        "id": "B2xeEY9w3g0d"
      }
    },
    {
      "cell_type": "code",
      "execution_count": null,
      "metadata": {
        "id": "GihxY_pitOYU"
      },
      "outputs": [],
      "source": [
        "graficar_funcion(funcion, aa, bb)"
      ]
    },
    {
      "cell_type": "markdown",
      "source": [
        "## Criterio de Paro (Tolerancia)"
      ],
      "metadata": {
        "id": "jFilf2Mf6IGd"
      }
    },
    {
      "cell_type": "markdown",
      "source": [
        "Como en otras fórmulas iterativas, el error aproximado del método de Newton-Raphson se puede calcular usando el error normalizado estimador:\n",
        "\n",
        "$$ \\varepsilon_{aprox} = \\left| \\frac{x_{i+1} - x_{i}}{x_{i+1}} \\right|, \\quad\n",
        "\\varepsilon_{aprox\\%} = \\left| \\frac{x_{i+1} - x_{i}}{x_{i+1}} \\right| \\cdot 100 \\%$$"
      ],
      "metadata": {
        "id": "9d98ARrtJqCQ"
      }
    },
    {
      "cell_type": "markdown",
      "source": [
        "## Código_NewtonRaphson (Base: Error Aproximado)"
      ],
      "metadata": {
        "id": "XuPojcWC5Ckp"
      }
    },
    {
      "cell_type": "code",
      "source": [
        "import sympy as sym"
      ],
      "metadata": {
        "id": "O2vyzn5FVhFb"
      },
      "execution_count": null,
      "outputs": []
    },
    {
      "cell_type": "markdown",
      "source": [
        "**Nota.** Nos auxiliaremos de la función `lambdify`: [https://docs.sympy.org/latest/modules/utilities/lambdify.html](https://docs.sympy.org/latest/modules/utilities/lambdify.html). Según la documentación: *este módulo proporciona funciones prácticas para transformar expresiones SymPy en funciones lambda que pueden utilizarse para calcular valores numéricos muy rápidamente.*\n"
      ],
      "metadata": {
        "id": "zizjYdKLiO_S"
      }
    },
    {
      "cell_type": "code",
      "source": [
        "def NewtonRaphson(funcion, x0, Es):\n",
        "    xx = sym.symbols(\"x\")\n",
        "    funcion = sym.sympify(funcion)\n",
        "    d_funcion =  sym.diff(funcion, xx)\n",
        "    ff = sym.lambdify(xx, funcion)\n",
        "    dff = sym.lambdify(xx, d_funcion)\n",
        "\n",
        "    iter = 1\n",
        "    xi = x0\n",
        "    Eraprox = 100\n",
        "\n",
        "    while Eraprox >= (Es/100):\n",
        "        x_i1 = xi - ff(xi) / dff(xi)\n",
        "        Eraprox = abs((x_i1 - xi) / x_i1)\n",
        "        xi = x_i1\n",
        "        print(f\"Iteración {iter}:  x_{iter} = {xi},  Era% = {Eraprox * 100} %\")\n",
        "        iter = iter + 1\n",
        "\n",
        "    return print(f\"\\nEl valor de la raíz es: {xi}\")"
      ],
      "metadata": {
        "id": "t_r9RfQu5X8z"
      },
      "execution_count": null,
      "outputs": []
    },
    {
      "cell_type": "markdown",
      "source": [
        "## Newton-Raphson\n",
        "\n",
        "(Primero ejecutamos la celda de la sección \"Código_NewtonRaphson\")"
      ],
      "metadata": {
        "id": "lyKPRBGqf0KE"
      }
    },
    {
      "cell_type": "code",
      "source": [
        "funcion = \"x^10 - 1\"\n",
        "x0 = 0.5\n",
        "Es = 1  #En porcentaje"
      ],
      "metadata": {
        "id": "BegVWxn75fPT"
      },
      "execution_count": null,
      "outputs": []
    },
    {
      "cell_type": "code",
      "source": [
        "NewtonRaphson(funcion, x0, Es)"
      ],
      "metadata": {
        "id": "2dkRSGTiVRah"
      },
      "execution_count": null,
      "outputs": []
    }
  ]
}